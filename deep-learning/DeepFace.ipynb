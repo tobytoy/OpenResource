{
 "cells": [
  {
   "cell_type": "markdown",
   "metadata": {},
   "source": [
    "![face](https://encrypted-tbn0.gstatic.com/images?q=tbn:ANd9GcRx31pET3eomVhmPSshBIq12gLNZRJoJ2hQRA&usqp=CAU)\n",
    "\n",
    "\n",
    "# DeepFaceLab\n",
    "- [DeepFaceLab 2020 May](https://github.com/iperov/DeepFaceLab)\n",
    "- [DeepFaceLab Colab](https://colab.research.google.com/github/chervonij/DFL-Colab/blob/master/DFL_Colab.ipynb)\n",
    "- [DeepFaceLab Paper](https://arxiv.org/abs/2005.05535)\n",
    "\n",
    "# SimSwap\n",
    "- [SimSwap 2021 Jun](https://github.com/neuralchen/SimSwap)\n",
    "- [SimSwap Colab](https://colab.research.google.com/github/neuralchen/SimSwap/blob/main/train.ipynb)\n",
    "- [SimSwap Paper](https://arxiv.org/abs/2106.06340)\n",
    "\n",
    "\n",
    "# DeepFace\n",
    "\n",
    "[DeepFace Github](https://github.com/serengil/deepface)\n",
    "\n"
   ]
  },
  {
   "cell_type": "code",
   "execution_count": null,
   "metadata": {},
   "outputs": [],
   "source": [
    "# Install \n",
    "pip install deepface"
   ]
  },
  {
   "cell_type": "code",
   "execution_count": null,
   "metadata": {},
   "outputs": [],
   "source": [
    "from deepface import DeepFace\n",
    "\n",
    "result = DeepFace.verify(img1_path = \"Iron_man.jpeg\", img2_path = \"usa-trump.jpeg\")\n",
    "report = DeepFace.analyze(img_path = \"Iron_man.jpeg\", actions = ['age', 'gender', 'race', 'emotion'])\n",
    "\n"
   ]
  },
  {
   "cell_type": "code",
   "execution_count": null,
   "metadata": {},
   "outputs": [],
   "source": []
  },
  {
   "cell_type": "code",
   "execution_count": null,
   "metadata": {},
   "outputs": [],
   "source": []
  }
 ],
 "metadata": {
  "language_info": {
   "name": "python"
  },
  "orig_nbformat": 4
 },
 "nbformat": 4,
 "nbformat_minor": 2
}
