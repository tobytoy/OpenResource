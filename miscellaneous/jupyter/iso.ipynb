{
 "cells": [
  {
   "cell_type": "markdown",
   "metadata": {},
   "source": [
    "# 搶 $15$\n",
    "我們有數字 $1$ 到 $9$，兩個人輪流拿不可重複拿取，誰拿到數字任三個和為 $15$的人贏。\n",
    "\n",
    "## Example\n",
    "假設兩個人叫 $A,B$ ， $A$ 搶了三個數字 $1, 5, 9$ ， $B$ 搶了三個數字 $2, 3, 4$ ，\n",
    "則 $A$ 勝利。\n",
    "\n",
    "請問這個遊戲有必勝法嗎?\n",
    "\n",
    "\n",
    "\n",
    "# 解\n",
    "\n",
    "|  |  |  |\n",
    "| :-----: | :----: | :----: |\n",
    "| 4 | 9 | 2 |\n",
    "| 3 | 5 | 7 |\n",
    "| 8 | 1 | 6 |\n",
    "\n",
    "\n",
    "\n"
   ]
  },
  {
   "cell_type": "code",
   "execution_count": null,
   "metadata": {},
   "outputs": [],
   "source": []
  }
 ],
 "metadata": {
  "language_info": {
   "name": "python"
  },
  "orig_nbformat": 4
 },
 "nbformat": 4,
 "nbformat_minor": 2
}
