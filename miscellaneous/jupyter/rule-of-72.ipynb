{
 "cells": [
  {
   "cell_type": "markdown",
   "metadata": {},
   "source": [
    "# 72 法則\n",
    "\n",
    "年化報酬率又稱為內部報酬率，（英文：Internal Rate of Return，縮寫：IRR)\n",
    "\n",
    "假設某間銀行固定年化報酬率為 $8\\%$ ，你存 $100$ 塊，過一年後你將會獲得 $108$ 元，那請問大概過幾年你的存款會翻倍。\n",
    "\n",
    "\n"
   ]
  },
  {
   "cell_type": "markdown",
   "metadata": {},
   "source": [
    "直覺的想法，一開始假設我有 $1$ 塊錢， $n$ 年以後我有 \n",
    "$$\n",
    "(1 + \\frac{r}{100})^n\n",
    "$$\n",
    "，我想要求 $n$ 大概是多少讓 \n",
    "$$\n",
    "(1 + \\frac{r}{100})^n=2\n",
    "$$\n",
    "\n",
    "下面我們用 python 幫我們求答案。 \n"
   ]
  },
  {
   "cell_type": "code",
   "execution_count": 3,
   "metadata": {},
   "outputs": [
    {
     "data": {
      "text/latex": [
       "$\\displaystyle \\frac{r}{100 \\log{\\left(2 \\right)}} - \\frac{r^{2}}{20000 \\log{\\left(2 \\right)}} + O\\left(r^{3}\\right)$"
      ],
      "text/plain": [
       "r/(100*log(2)) - r**2/(20000*log(2)) + O(r**3)"
      ]
     },
     "execution_count": 3,
     "metadata": {},
     "output_type": "execute_result"
    }
   ],
   "source": [
    "import sympy\n",
    "\n",
    "r = sympy.Symbol('r')\n",
    "\n",
    "n = sympy.log(1 + r/100, 10)/(sympy.log(2, 10))\n",
    "\n",
    "output = n.series(r, 0, 3)\n",
    "output\n"
   ]
  },
  {
   "cell_type": "code",
   "execution_count": 4,
   "metadata": {},
   "outputs": [
    {
     "data": {
      "text/plain": [
       "69.31471805599453"
      ]
     },
     "execution_count": 4,
     "metadata": {},
     "output_type": "execute_result"
    }
   ],
   "source": [
    "import math\n",
    "\n",
    "100 * math.log(2)\n"
   ]
  },
  {
   "cell_type": "markdown",
   "metadata": {},
   "source": [
    "推倒過程\n",
    "\n",
    "- step 1\n",
    "$$\n",
    "(1 + \\frac{r}{100})^n = 2\n",
    "$$\n",
    "\n",
    "- step 2 : 取 log\n",
    "$$\n",
    "n \\ln (1 + \\frac{r}{100}) = \\ln 2\n",
    "$$\n",
    "\n",
    "- step 3 : 用 $\\ln x \\sim x$ 在 $0$ 附近 \n",
    "$$\n",
    "n \\frac{r}{100} \\sim n \\ln (1 + \\frac{r}{100}) = 0.693147\n",
    "$$\n",
    "\n",
    "- step 4 : 移項\n",
    "$$\n",
    "n = \\frac{69.3147}{r}\n",
    "$$\n",
    "\n",
    "\n"
   ]
  },
  {
   "cell_type": "code",
   "execution_count": null,
   "metadata": {},
   "outputs": [],
   "source": []
  },
  {
   "cell_type": "markdown",
   "metadata": {},
   "source": [
    "我們下面看看實際的差距。"
   ]
  },
  {
   "cell_type": "code",
   "execution_count": 6,
   "metadata": {},
   "outputs": [
    {
     "data": {
      "text/plain": [
       "7.272540897341712"
      ]
     },
     "execution_count": 6,
     "metadata": {},
     "output_type": "execute_result"
    }
   ],
   "source": [
    "import math\n",
    "\n",
    "def year(r):\n",
    "    return math.log(2,10)/math.log(1+r/100,10)\n",
    "\n",
    "year(10)\n"
   ]
  },
  {
   "cell_type": "code",
   "execution_count": 8,
   "metadata": {},
   "outputs": [
    {
     "name": "stdout",
     "output_type": "stream",
     "text": [
      "差值最大：  0.280022357182929  差值最小：  -2.339283106425185\n"
     ]
    },
    {
     "data": {
      "image/png": "[encoded data removed]",
      "text/plain": [
       "<Figure size 720x720 with 1 Axes>"
      ]
     },
     "metadata": {
      "needs_background": "light"
     },
     "output_type": "display_data"
    }
   ],
   "source": [
    "import numpy as np\n",
    "import matplotlib.pyplot as plt\n",
    "\n",
    "plt.figure(figsize=(10, 10))\n",
    "\n",
    "r = np.arange(1, 100, 1)\n",
    "#r = np.arange(5, 10, 0.5)\n",
    "y_real = np.array([year(rate) for rate in r])\n",
    "y_pred = np.array([72/rate    for rate in r])\n",
    "\n",
    "y_diff = y_real - y_pred\n",
    "print('差值最大： ', y_diff.max(), ' 差值最小： ', y_diff.min())\n",
    "\n",
    "plt.title(\"pred test\")\n",
    "\n",
    "plt.plot(r, y_real, color='blue', label='real')\n",
    "plt.plot(r, y_pred, color='red', label='pred')\n",
    "\n",
    "plt.xlabel(\"Rate\")\n",
    "plt.ylabel(\"Year\")\n",
    "\n",
    "plt.legend() \n",
    "plt.show()\n"
   ]
  },
  {
   "cell_type": "code",
   "execution_count": null,
   "metadata": {},
   "outputs": [],
   "source": []
  },
  {
   "cell_type": "code",
   "execution_count": null,
   "metadata": {},
   "outputs": [],
   "source": []
  }
 ],
 "metadata": {
  "kernelspec": {
   "display_name": "Python 3.8.8 ('toby')",
   "language": "python",
   "name": "python3"
  },
  "language_info": {
   "codemirror_mode": {
    "name": "ipython",
    "version": 3
   },
   "file_extension": ".py",
   "mimetype": "text/x-python",
   "name": "python",
   "nbconvert_exporter": "python",
   "pygments_lexer": "ipython3",
   "version": "3.8.8"
  },
  "orig_nbformat": 4,
  "vscode": {
   "interpreter": {
    "hash": "9f507bc0c6a586295e3338d11ec3fe19c4f242dbc5a06bb50ca7be29aa175c9f"
   }
  }
 },
 "nbformat": 4,
 "nbformat_minor": 2
}
