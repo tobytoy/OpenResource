{
 "cells": [
  {
   "cell_type": "markdown",
   "metadata": {},
   "source": [
    "\n",
    "72 法則\n",
    "\n",
    "\n",
    "年化報酬率又稱為內部報酬率，（英文：Internal Rate of Return，縮寫：IRR\n",
    "\n"
   ]
  },
  {
   "cell_type": "code",
   "execution_count": null,
   "metadata": {},
   "outputs": [],
   "source": []
  },
  {
   "cell_type": "markdown",
   "metadata": {},
   "source": [
    "推倒\n",
    "\n",
    "- step 1\n",
    "$$\n",
    "(1 + \\frac{r}{100})^n = 2\n",
    "$$\n",
    "\n",
    "- step 2 : 取 log\n",
    "$$\n",
    "n \\ln (1 + \\frac{r}{100}) = \\ln 2\n",
    "$$\n",
    "\n",
    "- step 3 : 用 $\\ln x \\sim x$ 在 $0$ 附近 \n",
    "$$\n",
    "n \\frac{r}{100} \\sim n \\ln (1 + \\frac{r}{100}) = 0.693147\n",
    "$$\n",
    "\n",
    "- step 4 : 移項\n",
    "$$\n",
    "n = \\frac{69.3147}{r}\n",
    "$$\n",
    "\n",
    "\n",
    "\n",
    "\n",
    "\n"
   ]
  },
  {
   "cell_type": "code",
   "execution_count": null,
   "metadata": {},
   "outputs": [],
   "source": []
  },
  {
   "cell_type": "code",
   "execution_count": null,
   "metadata": {},
   "outputs": [],
   "source": [
    "import sympy\n",
    "\n",
    "def round_expr(expr, num_digits):\n",
    "    return expr.xreplace({n : round(n, num_digits) for n in expr.atoms(sympy.Number)})\n",
    "\n",
    "x = sympy.Symbol('x')\n",
    "# e = (2*sympy.log(2, 10))/sympy.log(100 + x, 10)\n",
    "\n",
    "e = sympy.log(1 + x/100, 10)/(sympy.log(2, 10))\n",
    "\n",
    "#round_expr(output, 4)\n",
    "\n",
    "output = e.series(x, 0, 3)\n",
    "output"
   ]
  },
  {
   "cell_type": "code",
   "execution_count": null,
   "metadata": {},
   "outputs": [],
   "source": [
    "import math\n",
    "\n",
    "100 * math.log(2)"
   ]
  },
  {
   "cell_type": "code",
   "execution_count": null,
   "metadata": {},
   "outputs": [],
   "source": []
  },
  {
   "cell_type": "code",
   "execution_count": null,
   "metadata": {},
   "outputs": [],
   "source": [
    "import math\n",
    "\n",
    "def year(x):\n",
    "    return math.log(2,10)/math.log(1+x/100,10)\n",
    "\n",
    "year(10)"
   ]
  },
  {
   "cell_type": "code",
   "execution_count": null,
   "metadata": {},
   "outputs": [],
   "source": [
    "import numpy as np\n",
    "import matplotlib.pyplot as plt\n",
    "\n",
    "plt.figure(figsize=(10, 10))\n",
    "\n",
    "x = np.arange(1, 100, 1)\n",
    "#x = np.arange(5, 10, 0.5)\n",
    "y_real = np.array([year(rate) for rate in x])\n",
    "y_pred = np.array([72/rate    for rate in x])\n",
    "\n",
    "y_diff = y_real - y_pred\n",
    "print('差值最大： ', y_diff.max(), ' 差值最小： ', y_diff.min())\n",
    "\n",
    "plt.title(\"pred test\")\n",
    "\n",
    "plt.plot(x, y_real, color='blue', label='real')\n",
    "plt.plot(x, y_pred, color='red', label='pred')\n",
    "\n",
    "plt.xlabel(\"Rate\")\n",
    "plt.ylabel(\"Year\")\n",
    "\n",
    "plt.show()"
   ]
  },
  {
   "cell_type": "code",
   "execution_count": null,
   "metadata": {},
   "outputs": [],
   "source": []
  },
  {
   "cell_type": "code",
   "execution_count": null,
   "metadata": {},
   "outputs": [],
   "source": []
  },
  {
   "cell_type": "code",
   "execution_count": null,
   "metadata": {},
   "outputs": [],
   "source": []
  },
  {
   "cell_type": "code",
   "execution_count": null,
   "metadata": {},
   "outputs": [],
   "source": []
  }
 ],
 "metadata": {
  "language_info": {
   "name": "python"
  },
  "orig_nbformat": 4
 },
 "nbformat": 4,
 "nbformat_minor": 2
}
