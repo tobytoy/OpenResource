{
 "cells": [
  {
   "cell_type": "markdown",
   "metadata": {},
   "source": [
    "\n",
    "先介紹一個工程類的網站\n",
    "\n",
    "[SNYK](https://snyk.io/advisor/python)\n",
    "\n",
    "\n",
    "### 斯坦福 棉花糖實驗\n",
    "\n",
    "### 富爸爸窮爸爸 財務自由\n",
    "\n",
    "\n",
    "荷蘭畫家艾雪（M. C. Escher）\n",
    "Ascending and Descending\n",
    "\n",
    "![Ascending and Descending](../images/Ascending%20and%20Descending.jpg)\n",
    "\n",
    "\n",
    "都是一塊錢，10年錢一塊錢跟現在一塊錢，你感覺一樣好用嗎\n",
    "\n",
    "\n",
    "社會需要想像力驅動，貴族、種性，錢是虛擬出來的。\n",
    "\n",
    "\n",
    "\n",
    "\n",
    "\n",
    "### 複利\n",
    "\n",
    "無窮個數的合一定是無窮大嗎\n",
    "\n",
    "\n",
    "$$\n",
    "1+1+1+1+\\cdots\n",
    "$$\n",
    "\n",
    "$$\n",
    "1+\\frac{1}{2}+\\frac{1}{4}+\\frac{1}{8}+\\cdots\n",
    "$$\n",
    "\n",
    "\n",
    "\n",
    "\n",
    "無窮大跟無窮大 能比大小嗎\n",
    "\n",
    "\n",
    "## 整數\n",
    "\n",
    "## 有理數\n",
    "\n",
    "## 實數\n",
    "\n",
    "\n",
    "### 什麼叫一樣多\n",
    "\n",
    "\n",
    "## 連續統假設\n",
    "\n",
    "## 光速\n",
    "\n",
    "## 進化論(有人質疑)\n",
    "\n",
    "\n",
    "\n",
    "\n",
    "\n"
   ]
  },
  {
   "cell_type": "markdown",
   "metadata": {},
   "source": []
  },
  {
   "cell_type": "code",
   "execution_count": null,
   "metadata": {},
   "outputs": [],
   "source": []
  },
  {
   "cell_type": "code",
   "execution_count": null,
   "metadata": {},
   "outputs": [],
   "source": []
  },
  {
   "cell_type": "markdown",
   "metadata": {},
   "source": [
    "\n",
    "\n",
    "\n",
    "\n",
    "\n",
    "\n"
   ]
  },
  {
   "cell_type": "code",
   "execution_count": null,
   "metadata": {},
   "outputs": [],
   "source": [
    "連續統假設\n",
    "\n",
    "https://www.quantamagazine.org/how-many-numbers-exist-infinity-proof-moves-math-closer-to-an-answer-20210715/\n",
    "\n",
    "https://medium.com/@_.__/%E4%B9%9F%E8%AB%87%E9%80%A3%E7%BA%8C%E7%B5%B1%E5%81%87%E8%A8%AD-d22e5d13b20b\n",
    "\n"
   ]
  },
  {
   "cell_type": "code",
   "execution_count": null,
   "metadata": {},
   "outputs": [],
   "source": []
  },
  {
   "cell_type": "code",
   "execution_count": null,
   "metadata": {},
   "outputs": [],
   "source": []
  }
 ],
 "metadata": {
  "kernelspec": {
   "display_name": "Python 3.8.8 ('toby')",
   "language": "python",
   "name": "python3"
  },
  "language_info": {
   "name": "python",
   "version": "3.8.8"
  },
  "orig_nbformat": 4,
  "vscode": {
   "interpreter": {
    "hash": "9f507bc0c6a586295e3338d11ec3fe19c4f242dbc5a06bb50ca7be29aa175c9f"
   }
  }
 },
 "nbformat": 4,
 "nbformat_minor": 2
}
