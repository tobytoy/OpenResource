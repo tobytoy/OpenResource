{
 "cells": [
  {
   "cell_type": "code",
   "execution_count": null,
   "metadata": {},
   "outputs": [],
   "source": []
  },
  {
   "cell_type": "code",
   "execution_count": null,
   "metadata": {},
   "outputs": [],
   "source": []
  },
  {
   "cell_type": "code",
   "execution_count": 3,
   "metadata": {},
   "outputs": [
    {
     "name": "stdout",
     "output_type": "stream",
     "text": [
      "..\\PythonBasic\\content\\01-01 python_introduce.ipynb\n",
      "..\\PythonBasic\\content\\01-02 data_type.ipynb\n"
     ]
    }
   ],
   "source": [
    "from pathlib import Path\n",
    "\n",
    "path = Path('../PythonBasic/content/')\n",
    "\n",
    "for p in list(path.glob('*')):\n",
    "    print(p)\n"
   ]
  },
  {
   "cell_type": "code",
   "execution_count": 6,
   "metadata": {},
   "outputs": [],
   "source": [
    "import json\n",
    "\n",
    "with open(p, encoding = \"UTF-8\") as file:\n",
    "    data = json.load(file)\n",
    "    "
   ]
  },
  {
   "cell_type": "code",
   "execution_count": 11,
   "metadata": {},
   "outputs": [
    {
     "name": "stdout",
     "output_type": "stream",
     "text": [
      "0\n",
      "[]\n",
      "1\n",
      "[]\n",
      "2\n",
      "['https://github.com/tobytoy/Python-100-Days/blob/master/Day01-15/02.%E8%AF%AD%E8%A8%80%E5%85%83%E7%B4%A0.md\\n', 'https://www.w3schools.com/python/python_datatypes.asp\\n', '\\n']\n",
      "3\n",
      "[]\n",
      "4\n",
      "['$$$$\\n', 'hihi\\n', '$$$$']\n",
      "5\n",
      "[]\n",
      "6\n",
      "[]\n"
     ]
    }
   ],
   "source": [
    "def replace_function(string_item):\n",
    "    # 要更換在這邊\n",
    "    string_output = string_item.replace('$', '$$')\n",
    "    return string_output\n",
    "\n",
    "\n",
    "count = 0\n",
    "for _cells in data['cells']:\n",
    "    print(count)\n",
    "    cells_source = _cells['source']\n",
    "    cells_type   = _cells['cell_type']\n",
    "\n",
    "    \n",
    "    print(list(map(replace_function, cells_source)))\n",
    "    count += 1\n",
    "\n"
   ]
  },
  {
   "cell_type": "code",
   "execution_count": null,
   "metadata": {},
   "outputs": [],
   "source": []
  },
  {
   "cell_type": "code",
   "execution_count": null,
   "metadata": {},
   "outputs": [],
   "source": []
  }
 ],
 "metadata": {
  "kernelspec": {
   "display_name": "Python 3.9.12 ('py39')",
   "language": "python",
   "name": "python3"
  },
  "language_info": {
   "codemirror_mode": {
    "name": "ipython",
    "version": 3
   },
   "file_extension": ".py",
   "mimetype": "text/x-python",
   "name": "python",
   "nbconvert_exporter": "python",
   "pygments_lexer": "ipython3",
   "version": "3.9.12"
  },
  "orig_nbformat": 4,
  "vscode": {
   "interpreter": {
    "hash": "16588fe0bceb188988cfd4fccbde89564770efaa71f24d6b7cc64f697ef5739b"
   }
  }
 },
 "nbformat": 4,
 "nbformat_minor": 2
}
