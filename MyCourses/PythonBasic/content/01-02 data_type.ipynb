{
 "cells": [
  {
   "cell_type": "code",
   "execution_count": null,
   "metadata": {},
   "outputs": [],
   "source": []
  },
  {
   "cell_type": "markdown",
   "metadata": {},
   "source": [
    "# [教學目標]\n",
    "\n",
    "* 認識 python 的變量、類型與資料結構\n",
    "\n",
    "\n"
   ]
  },
  {
   "cell_type": "code",
   "execution_count": null,
   "metadata": {},
   "outputs": [],
   "source": []
  },
  {
   "cell_type": "markdown",
   "metadata": {},
   "source": [
    "# 變量和類型\n",
    "\n",
    "在程序設計中，變量是一種存儲數據的載體。\n",
    "計算機中的變量是實際存在的數據或者說是存儲器中存儲數據的一塊內存空間，變量的值可以被讀取和修改，這是所有計算和控制的基礎。\n",
    "計算機能處理的數據有很多種類型，除了數值之外還可以處理文本、圖形、音頻、視頻等各種各樣的數據，那麼不同的數據就需要定義不同的存儲類型。 \n",
    "Python中的數據類型很多，而且也允許我們自定義新的數據類型（這一點在後面會講到），我們先介紹幾種常用的數據類型。\n",
    "\n",
    "* 整數型：Python中可以處理任意大小的整數（Python 2.x中有int和long兩種類型的整數，但這種區分對Python來說意義不大，因此在Python 3.x中整數只有int這一種了），而且支持二進制（如0b100，換算成十進制是4）、八進制（如0o100，換算成十進制是64）、十進制（100）和十六進制（0x100，換算成十進制是256）的表示法。\n",
    "\n",
    "* 浮點數型：浮點數也就是小數，之所以稱為浮點數，是因為按照科學記數法表示時，一個浮點數的小數點位置是可變的，浮點數除了數學寫法（如123.456）之外還支持科學計數法（如1.23456e2）。\n",
    "\n",
    "* 字符串型：字符串是以單引號或雙引號括起來的任意文本，比如'hello'和\"hello\"，字符串還有原始字符串表示法、字節字符串表示法、Unicode字符串表示法，而且可以書寫成多行的形式（用三個單引號或三個雙引號開頭，三個單引號或三個雙引號結尾）。\n",
    "\n",
    "* 布林型：布林值只有True、False兩種值，在Python中，可以直接用True、False表示布林值（請注意大小寫），也可以通過布林運算計算出來（例如3 < 5會產生布林值True，而2 == 1會產生布林值False）。\n",
    "\n",
    "* 複數型：形如3+5j，跟數學上的複數表示一樣，唯一不同的是虛部的i換成了j。實際上，這個類型並不常用，大家了解一下就可以了。\n",
    "\n",
    "## 變量命名\n",
    "對於每個變量我們需要給它取一個名字，就如同我們每個人都有屬於自己的響亮的名字一樣。在Python中，變量命名需要遵循以下這些必須遵守硬性規則和強烈建議遵守的非硬性規則。\n",
    "\n",
    "* 硬性規則：\n",
    "變量名由字母（廣義的Unicode字符，不包括特殊字符）、數字和下劃線構成，數字不能開頭。\n",
    "大小寫敏感（大寫的a和小寫的A是兩個不同的變量）。\n",
    "不要跟關鍵字（有特殊含義的單詞，後面會講到）和系統保留字（如函數、模塊等的名字）衝突。\n",
    "\n",
    "* PEP 8要求：\n",
    "用小寫字母拼寫，多個單詞用下劃線連接。\n",
    "受保護的實例屬性用單個下劃線開頭（後面會講到）。\n",
    "私有的實例屬性用兩個下劃線開頭（後面會講到）。\n",
    "當然，作為一個專業的程序員，給變量（事實上應該是所有的標識符）命名時做到見名知意也是非常重要的。\n",
    "\n",
    "\n",
    "### 類型檢查\n",
    "\n",
    "在Python中可以使用type函數對變量的類型進行檢查。\n",
    "\n",
    "\n",
    "## 類型轉換\n",
    "\n",
    "可以使用Python中內置的函數對變量類型進行轉換。\n",
    "\n",
    "* `int()`：將一個數值或字符串轉換成整數，可以指定進制。\n",
    "* `float()`：將一個字符串轉換成浮點數。\n",
    "* `str()`：將指定的對象轉換成字符串形式，可以指定編碼。\n",
    "* `chr()`：將整數轉換成該編碼對應的字符串（一個字符）。\n",
    "* `ord()`：將字符串（一個字符）轉換成對應的編碼（整數）。\n",
    "\n",
    "\n",
    "\n"
   ]
  },
  {
   "cell_type": "code",
   "execution_count": null,
   "metadata": {},
   "outputs": [],
   "source": []
  },
  {
   "cell_type": "code",
   "execution_count": null,
   "metadata": {},
   "outputs": [],
   "source": []
  },
  {
   "cell_type": "markdown",
   "metadata": {},
   "source": []
  },
  {
   "cell_type": "code",
   "execution_count": null,
   "metadata": {},
   "outputs": [],
   "source": []
  },
  {
   "cell_type": "code",
   "execution_count": null,
   "metadata": {},
   "outputs": [],
   "source": []
  }
 ],
 "metadata": {
  "kernelspec": {
   "display_name": "Python 3.8.8 ('toby')",
   "language": "python",
   "name": "python3"
  },
  "language_info": {
   "name": "python",
   "version": "3.8.8"
  },
  "orig_nbformat": 4,
  "vscode": {
   "interpreter": {
    "hash": "9f507bc0c6a586295e3338d11ec3fe19c4f242dbc5a06bb50ca7be29aa175c9f"
   }
  }
 },
 "nbformat": 4,
 "nbformat_minor": 2
}
