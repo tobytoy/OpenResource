{
 "cells": [
  {
   "cell_type": "markdown",
   "metadata": {},
   "source": [
    "# [教學目標]\n",
    "\n",
    "* 什麼是 python ， 為何用 python。\n",
    "* 程式語言的運作原理 \n",
    "* 程式語言如何實現跨平台\n",
    "\n"
   ]
  },
  {
   "cell_type": "code",
   "execution_count": null,
   "metadata": {},
   "outputs": [],
   "source": []
  },
  {
   "cell_type": "markdown",
   "metadata": {},
   "source": [
    "# 關於 Python\n",
    "\n",
    "Python 是目前世界上最流行的程式語言之一，也是相當容易入門且功能強大的程式語言。它除了可以透過簡單邏輯進行程式設計，更具備有高效能的資料結構處理能力。Python 簡單易懂的程式語法，結合由 C 語言建構的特性，使得 Python 能跨平台開發，也幾乎能在所有作業系統中運作。\n",
    "\n",
    "\n",
    "# Python 名稱的由來 \n",
    "\n",
    "* 在 1989 年，一位荷蘭的程式設計師吉多。范羅蘇姆 ( Guido van Rossum )，在 1989 年的聖誕節期間，花了三個月的時間，創造出一套以 ABC 程式語言為基礎，作為替代 Unix shell 和 C 語言進行系統管理的程式語言：Python。\n",
    "\n",
    "![Guido van Rossum](https://images0.cnblogs.com/blog/413416/201302/06100633-c2ce8755002945df846b5dad1dc25cdd.jpg)\n",
    "\n",
    "* 范羅蘇姆是 BBC 電視劇 Monty Python's Flying Circus ( 蒙提派森的飛行馬戲團 ) 的愛好者，於是他就將這套程式語言命名為 Python，由於 Python 是「蟒蛇」的英文，所以在許多教學或文件中，都會使用一藍一黃的蟒蛇圖案作為 Python 的形象代表。\n",
    "\n",
    "<img src=\"https://upload.wikimedia.org/wikipedia/commons/thumb/c/c3/Python-logo-notext.svg/1200px-Python-logo-notext.svg.png\" width=\"500px\" />\n",
    "\n",
    "\n",
    "\n",
    "* 1991年2月：第一個Python編譯器（同時也是解釋器）誕生，它是用C語言實現的（後面），可以調用C語言的庫函數。在最早的版本中，Python已經提供了對“類”，“函數”，“異常處理”等構造塊的支持，還有對列表、字典等核心數據類型，同時支持以模塊為基礎來構造應用程序。\n",
    "\n",
    "* 1994年1月：Python 1.0正式發布。\n",
    "\n",
    "* 2000年10月16日：Python 2.0發布，增加了完整的垃圾回收，提供了對Unicode的支持。與此同時，Python的整個開發過程更加透明，社區對開發進度的影響逐漸擴大，生態圈開始慢慢形成。\n",
    "\n",
    "* 2008年12月3日：Python 3.0發布，它並不完全兼容之前的Python代碼。\n",
    "\n"
   ]
  },
  {
   "cell_type": "markdown",
   "metadata": {},
   "source": [
    "# Python 的特色 \n",
    "近幾年來，Python 已經逐漸變成最最熱門的程式語言之一，也是一直是最流行的程式語言前五名，主要有下列幾個原因：\n",
    "\n",
    "* 語法簡潔、結構簡單，程式碼可讀性強，學習起來更加簡單 ( 閱讀好的 Python 程式碼，就好比在看英文文章 )。\n",
    "* 免費且開源，擁有非常豐富的開發者社群支援。\n",
    "* 完善的基礎程式庫，涵蓋網路、文件、資料庫、GUI...等。\n",
    "* 非常強大的第三方程式庫，任何電腦可以實現的功能，都能透過 Python 實現。\n",
    "* 應用範圍廣泛，能和絕大多數的程式語言 ( C/C++、C#、Java、JavaScript...等 ) 共同使用。\n",
    "\n",
    "# Python 可以做什麼？\n",
    "\n",
    "* 網路爬蟲與擷取資訊\n",
    "* 數據處理分析與視覺化應用\n",
    "* 機器學習與人工智慧\n",
    "* 自動化測試\n",
    "* 網站開發\n",
    "* 軟體開發\n",
    "* 商業應用\n",
    "* 多媒體應用"
   ]
  },
  {
   "cell_type": "markdown",
   "metadata": {},
   "source": [
    "# Python 之禪\n"
   ]
  },
  {
   "cell_type": "code",
   "execution_count": 9,
   "metadata": {},
   "outputs": [],
   "source": [
    "import this\n",
    "\n",
    "# this.__file__\n",
    "# !cat c:\\Users\\ .. \\this.py\n",
    "# !type c:\\Users\\ .. \\this.py\n"
   ]
  },
  {
   "cell_type": "markdown",
   "metadata": {},
   "source": []
  },
  {
   "cell_type": "code",
   "execution_count": null,
   "metadata": {},
   "outputs": [],
   "source": []
  },
  {
   "cell_type": "markdown",
   "metadata": {},
   "source": [
    "# [作業目標]\n",
    "\n",
    "python 可以拿來幹嘛? (複選題)\n",
    "\n",
    "<ol type=\"A\">\n",
    "  <li>可以煮來吃</li>\n",
    "  <li>可以做數據分析</li>\n",
    "  <li>可以練打字速度</li>\n",
    "  <li>可以做網路爬蟲</li>\n",
    "  <li>可以向別人炫耀</li>\n",
    "  <li>可以拿來當枕頭</li>\n",
    "</ol>\n"
   ]
  },
  {
   "cell_type": "code",
   "execution_count": null,
   "metadata": {},
   "outputs": [],
   "source": []
  },
  {
   "cell_type": "markdown",
   "metadata": {},
   "source": [
    "# 參考資料\n",
    "\n",
    "* https://docs.python.org/zh-tw/3/tutorial/index.html\n",
    "* https://zh.wikipedia.org/zh-tw/Python\n",
    "* https://www.cnblogs.com/vamei/archive/2013/02/06/2892628.html\n",
    "* http://rogerchang.logdown.com/posts/5410082-does-python-need-to-compile-or-interpret\n",
    "\n",
    "\n"
   ]
  },
  {
   "cell_type": "code",
   "execution_count": null,
   "metadata": {},
   "outputs": [],
   "source": []
  }
 ],
 "metadata": {
  "kernelspec": {
   "display_name": "Python 3.8.8 ('toby')",
   "language": "python",
   "name": "python3"
  },
  "language_info": {
   "codemirror_mode": {
    "name": "ipython",
    "version": 3
   },
   "file_extension": ".py",
   "mimetype": "text/x-python",
   "name": "python",
   "nbconvert_exporter": "python",
   "pygments_lexer": "ipython3",
   "version": "3.8.8"
  },
  "orig_nbformat": 4,
  "vscode": {
   "interpreter": {
    "hash": "9f507bc0c6a586295e3338d11ec3fe19c4f242dbc5a06bb50ca7be29aa175c9f"
   }
  }
 },
 "nbformat": 4,
 "nbformat_minor": 2
}
