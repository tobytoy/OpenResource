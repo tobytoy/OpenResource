{
 "cells": [
  {
   "cell_type": "code",
   "execution_count": null,
   "id": "0c9741af-35c5-4bee-ba49-a134e2e1e8d9",
   "metadata": {},
   "outputs": [],
   "source": []
  },
  {
   "cell_type": "markdown",
   "id": "e78fca2d-0b9a-4267-a415-a2e5a6f4c201",
   "metadata": {},
   "source": [
    "# 資料科學家或數據分析師的工作流程\n",
    "\n",
    "## 動機\n",
    "\n",
    "我們為何要當資料科學家\n",
    "* 我們對於分析事物很有興趣\n",
    "* 薪水: 當資料科學家的薪水不錯 <br>\n",
    "不過也需要你是一個優秀的軟體工程師，通常基本技能要熟溪 python 與 R ，加分項目包含前端(javascript, React, Vue等)，後端(Node.js, java 等)與容器化技術，CICD等。\n",
    "\n",
    "\n",
    "## 工作流程\n"
   ]
  },
  {
   "cell_type": "markdown",
   "id": "8ddc30d1-db88-4b63-84fe-617656cb261b",
   "metadata": {},
   "source": [
    "![資料科學家工作流程](../../images/Data+Science+Workflow+Image.jpg)"
   ]
  },
  {
   "cell_type": "markdown",
   "id": "bd43cda7-2140-4ae6-8180-8e6bedce5244",
   "metadata": {},
   "source": [
    "1. 問題、目的 釐清與認識 <br>\n",
    "如果大家有出來工作過就會發現一將無能累死三軍，\n",
    "常常你的長官需求亂變，\n",
    "工作亂給，\n",
    "什麼都在變，\n",
    "但是開發時間是不會變的這是鐵律，\n",
    "我們做數據科學家要幫你的長官或更上級的長官，\n",
    "我們要循循善誘的引導他們，\n",
    "因為他們腦袋常常一團糨糊不清楚自己要什麼，\n",
    "我們來舉個例子，我有碰過一個要求\"聽到叫聲判斷是哪種動物，是不是保育動物\"。\n",
    "以老闆的角度，我開發出來這功能就可以去賣錢，有噱頭就可以。<br>\n",
    "下面我們以資料科學家與工程師的角度來看這個問題，\n",
    "我們的收音設備可以收到多少分貝多清晰的聲音，\n",
    "我們的設備會不會被其他干擾，\n",
    "是指向還是環繞(你可能會想問這有關西嗎)，\n",
    "因為我們是要做叫聲去做分類，\n",
    "所以我們要收集動物叫聲收集，\n",
    "我們要考慮要收集那些動物的叫聲(老的小的熊的雌的，不同地區不同季節的叫聲有差嗎等等)，\n",
    "我們的收音設備跟使用者的收音設備有差嗎，\n",
    "工程要考慮我們的模型可況展性，可替換性，\n",
    "我們是自己開發設備或是用別人的系統，\n",
    "有網路嗎等等問題，\n",
    "老闆都會以為我付你薪水這些你自己都要搞定，\n",
    "但是難道你會為了區區幾個臭錢拿你的iphone去找獅子老虎大雄反覆橫跳，\n",
    "去引他們亂叫，然後讓家人幫你收屍嗎，\n",
    "有些工作會把數據收集，數據清理等都算是你的工作，還沒獎金，\n",
    "他們覺得這是你分內之事，\n",
    "所以一開始的問題與目的釐清，\n",
    "讓上面知道要有初步效果要花的時間與人力有多少，\n",
    "還有市面上競爭的產品有哪些，\n",
    "以目前研發的工程師與資料科學家開發出來在市面上的優劣勢分析，\n",
    "如果你沒有做過事前的完整規劃，\n",
    "你會體會到長官與老闆的奇思妙想與天馬行空，\n",
    "你出來工作會發現一推只會動嘴，\n",
    "只有一張嘴其他什麼事都不會做的人，\n",
    "叫別人做事說一堆，要他做事就是我不會，這不關我的事，\n",
    "很多秘辛以後再來多說說。\n",
    "\n",
    "\n",
    "2. 資料的獲取 <br>\n",
    "根據要分析的問題，我們要收集數據。\n",
    "\n",
    "\n",
    "3. 數據整理 與 數據清理 <br>\n",
    "我們收的原始數通常是有很多問題的，例如 數據有缺失，格式不統一，或是沒有代表性等等。\n",
    "我們都需要把數據整理成為好分析的數據。\n",
    "\n",
    "\n",
    "4. 資料分析 與 建立模型 <br>\n",
    "我們要根據不同的任務去挑選不同的模型與參數，這一部分我們會在以後詳細介紹。\n",
    "\n",
    "\n",
    "5. 分析報告、可視化數據 或是 部屬上線\n",
    "做好模型以後，就是讓上面有邀功的表現，你要知道長官與老闆完全不了解你花了多少努力，\n",
    "那些模型他都完全不懂，所以你要用可視化的工具，\n",
    "讓完全不懂的人都可以講出來，我們做了什麼(其實只有你在努力，老闆只負責出一張嘴負責叫你去做事)，\n",
    "你還要預先幫你的長官想好台詞，因為他們完全不會知道你在幹嘛。 <br>\n",
    "等邀完工，你的老闆升職加薪，\n",
    "就該你把你辛苦的成果上線部屬給測試部門去測試，\n",
    "去回報你之前沒考慮的問題(例如 人把自己的叫聲拿變聲器改一改去測試是哪種動物)，\n",
    "或是各種Bug等等，\n",
    "等你都修到大家都沒問題就可以等上線。\n",
    "\n",
    "\n"
   ]
  },
  {
   "cell_type": "markdown",
   "id": "977f67f9-a580-492f-88ef-6314446fe3ab",
   "metadata": {},
   "source": [
    "# 人工智慧 Artificial Intelligence (AI)\n",
    "\n",
    "我們來談談人工智慧的分類"
   ]
  },
  {
   "cell_type": "markdown",
   "id": "0e2e20ab-250d-4043-a541-b0977f21da98",
   "metadata": {},
   "source": [
    "![AI的分類](../../images/AI_class.png)"
   ]
  },
  {
   "cell_type": "markdown",
   "id": "7173f075-d411-475a-b934-b98205b20b60",
   "metadata": {},
   "source": [
    "人工智慧是最大的集合，機器學習是人工智慧的一個獨立分支，他是關於開發具有自我學習能力的演算法，也是這次課程我們主要關注的部分，\n",
    "深度學習是現在很紅的項目，我們這堂課也會提到基礎的部分，更深的內容就期待以後有機會開課來教大家。<br>\n",
    "\n",
    "人工神經元(artificial neuron)的定義是參考人類的神經元給的，我們下面來看看定義。"
   ]
  },
  {
   "cell_type": "markdown",
   "id": "e7d0d4d1-2e64-4843-a20a-cd8bbd836bae",
   "metadata": {},
   "source": [
    "![AI的分類](../../images/Blausen_0657_MultipolarNeuron.png)"
   ]
  },
  {
   "cell_type": "markdown",
   "id": "9152d7c1-c45e-42ca-b805-88dc014f50b1",
   "metadata": {},
   "source": [
    "假設 $\\phi$ 是一個人工神經元函數，$\\phi$ 的輸入就是一串訊號 $(x_1, \\cdots , x_n)$，\n",
    "$\\phi$的第一步會把訊號做加權，\n",
    "$$\n",
    "z= w_1 x_1 + \\cdots + w_n x_n\n",
    "$$\n",
    "我們腦中也常常會自動忽略我們不在意的訊號(例如你老闆的叫聲)，也會自動加強你在意的訊號(例如你男女朋友的呼喚)。<br>\n",
    "第二步就是根據這些訊號，我們要不要被激活，如果$z$大於例如$0.5$就被激活，小於$0.5$就不被激活。<br>\n",
    "深度學習就是把很多神經元疊起來去做分析判斷的技術。\n",
    "\n",
    "\n"
   ]
  },
  {
   "cell_type": "markdown",
   "id": "ab999132-b156-43e9-996f-260f10cae3f5",
   "metadata": {},
   "source": [
    "# 機器學習\n",
    "\n",
    "我們先來看看三種類型的機器學習: \n",
    "* 監督學習 (supervised learning)\n",
    "* 非監督學習 (unsupervised learning)\n",
    "* 強化學習 (reinforcement learning)\n",
    "\n",
    "\n"
   ]
  },
  {
   "cell_type": "markdown",
   "id": "60fb315c-7143-4474-bb70-d68782e96fb0",
   "metadata": {},
   "source": [
    "# Supervised Learning (監督學習)\n",
    "## **定義**\n",
    "所有的資料（訓練資料，驗證資料，測試資料）都被「標註」(label)，告訴模型相對應的值，以提供機器學習在訓練模型，驗證模型時判斷預測與標註的差異。\n",
    "\n",
    "## **更多的碎碎念**\n",
    "你知道機器學習（Machine Learning）可以分學幾類嗎？根據資料被標記的狀態可以分為下面幾種\n",
    "* 監督式學習 (Supervised Learning) <br>\n",
    "監督學習通常分為分類與回歸兩類問題，我們之後要講的好用工具 scikit-learn \n",
    "常見算法有決策樹（Decision Tree， DT）、支持向量機（Support Vector Machine， SVM）和神經網絡等。\n",
    "* 非監督式學習 (Unsupervised Learing) \n",
    "* 增強式學習 (Reinforcement Learning)\n",
    "\n",
    "我們在以後還會看到更多，例如自監督學習（Self-Supervised Learning）[參考範例](https://github.com/facebookresearch/dino)\n",
    "\n",
    "[DINO](https://github.com/tobytoy/OpenResource/blob/main/scikit-learn/01.SupervisedLearning/resource/Self-attentionVideo.gif)\n"
   ]
  },
  {
   "cell_type": "markdown",
   "id": "e3ef6937-ba75-400a-a239-323c2f106121",
   "metadata": {},
   "source": [
    "我們下面來說點人話\n",
    "\n",
    "什麼是監督學習啊，就是填鴨式教育，假設我們要讓電腦學會判斷貓跟狗。\n",
    "\n",
    "我們要準備很多圖片裡面有貓貓跟狗狗，並且跟電腦說這張圖片是貓貓，那張圖片是狗狗。\n",
    "\n",
    "所以監督學習重點要電腦學會什麼？\n",
    "\n",
    "沒錯就是預測，可能要學會預測貓狗或是股票漲跌等等。"
   ]
  },
  {
   "cell_type": "markdown",
   "id": "e2936bce-be65-4bd1-bbde-80b2b2a0cfb1",
   "metadata": {},
   "source": [
    "# Scikit Learn\n",
    "\n",
    "scikit learn 是現在最流行的機器學習套件之一， scikit learn 是基於 SciPy, Numpy 等 python套件建構的用於機器學習的 Python 套件。\n",
    "\n",
    "* [官網](https://scikit-learn.org/stable/index.html)\n",
    "* [中文翻譯](https://scikit-learn.org.cn/)\n",
    "\n",
    "\n",
    "下面一張圖是 scikit learn 作弊小抄。"
   ]
  },
  {
   "cell_type": "markdown",
   "id": "ecdfddc4-92c2-4ca0-9f7b-945c5033fee7",
   "metadata": {},
   "source": [
    "![Scikit Algorithm Path](../../images/ml_map.png)\n",
    "\n",
    "[來源](https://scikit-learn.org/stable/tutorial/machine_learning_map/index.html)\n"
   ]
  },
  {
   "cell_type": "markdown",
   "id": "28786815-da32-4679-98aa-9d703c64eafa",
   "metadata": {},
   "source": [
    "我們之前已經介紹機器學習的大致任務分類，Supervised Learning 監督學習，Unsupervised Learning 非監督學習。\n",
    "\n",
    "那在 scikit learn 裡面可以分為四大項目 classification 分類，clustering 聚類，regression 迴歸，dimensionality reduction 降維。\n",
    "\n",
    "這邊有兩個名詞 classification 分類，clustering 聚類 有人知道其中的差別嗎?\n",
    "\n",
    "\n",
    "下面就來解說一下這四大類。\n",
    "\n",
    "1. Classification: <br>\n",
    "  如果我們的訓練資料有標記要拿來分類，則這種任務就是 Classification 。\n",
    "2. Clustering: <br>\n",
    "  如果我們的訓練資料有一堆，但是沒標記，要做的是unsupervised learning，做聚類分堆問題，則這種任務就是 Clustering 。\n",
    "3. Regression: <br>\n",
    "  如果要做的分類不是離散，是連續的，立如要預測股價，房價等等，這種任務就是Regression。\n",
    "4. Dimensionality reduction: <br>\n",
    "  如果資料的維度太多，可以利用 scikit learn 裡面的方法來降維，例如 PCA 。\n"
   ]
  },
  {
   "cell_type": "markdown",
   "id": "a159b6ec-1414-46e6-9cb3-89dc2e01e10d",
   "metadata": {},
   "source": [
    "# 基本流程\n",
    "\n",
    "我們下面來談談機器學習的訓練流程，下面的流程是監督學習的流程，監督學習的學習方法跟我們在補習班學習的填鴨式學習非常像。"
   ]
  },
  {
   "cell_type": "markdown",
   "id": "179547d7-9e46-4e10-8523-e4e8fa65b254",
   "metadata": {},
   "source": [
    "![flowChart](../../images/flowChart.jpg)"
   ]
  },
  {
   "cell_type": "markdown",
   "id": "9c5246bb-bee7-4d52-b14a-57c7526b8f50",
   "metadata": {},
   "source": [
    "# Baseline Model\n",
    "\n",
    "基本模型就是最基本的模型，可以是平均或是固定值。\n",
    "為什麼我們要有 Baseline Model?"
   ]
  },
  {
   "cell_type": "code",
   "execution_count": null,
   "id": "42cb759e-7599-4553-a665-740c4704c87f",
   "metadata": {},
   "outputs": [],
   "source": []
  },
  {
   "cell_type": "code",
   "execution_count": null,
   "id": "4d9f66c1-2d0b-4fdc-8776-1064a6e71bad",
   "metadata": {},
   "outputs": [],
   "source": []
  },
  {
   "cell_type": "code",
   "execution_count": null,
   "id": "c996662e-c2a6-440b-9530-4ab8fe565a2c",
   "metadata": {},
   "outputs": [],
   "source": []
  },
  {
   "cell_type": "code",
   "execution_count": null,
   "id": "f7dca501-5e56-44c2-ac0b-2abb7a479bfa",
   "metadata": {},
   "outputs": [],
   "source": []
  }
 ],
 "metadata": {
  "kernelspec": {
   "display_name": "Python 3 (ipykernel)",
   "language": "python",
   "name": "python3"
  },
  "language_info": {
   "codemirror_mode": {
    "name": "ipython",
    "version": 3
   },
   "file_extension": ".py",
   "mimetype": "text/x-python",
   "name": "python",
   "nbconvert_exporter": "python",
   "pygments_lexer": "ipython3",
   "version": "3.9.12"
  }
 },
 "nbformat": 4,
 "nbformat_minor": 5
}
