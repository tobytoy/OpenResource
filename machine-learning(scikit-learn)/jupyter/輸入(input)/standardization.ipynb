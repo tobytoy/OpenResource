{
 "cells": [
  {
   "cell_type": "code",
   "execution_count": null,
   "metadata": {},
   "outputs": [],
   "source": []
  },
  {
   "cell_type": "markdown",
   "metadata": {},
   "source": [
    "在前處理(preprocessing)的問題也包含缺失值處理(Missing Values)，我們把這個問題，移到 \"其他工具\" 的 pandas 的教學裡面。\n",
    "\n"
   ]
  },
  {
   "cell_type": "markdown",
   "metadata": {},
   "source": [
    "# Standardization\n",
    "在scikit-learn 裡面提供了四種不同資料處理的方法\n",
    "\n",
    "* StandardScaler (平均值和標準差)\n",
    "* MinMaxScaler (最小最大值標準化)\n",
    "* MaxAbsScaler (絕對值最大標準化)\n",
    "* RobustScaler\n",
    "\n",
    "## StandardScaler\n",
    "將所有特徵標準化，減去 mean 再除以 std，使得數據的 mean 為 $0$，std 為 $1$。\n",
    "\n",
    "## MinMaxScaler\n",
    "數據會縮放到到 $[0,1]$ 之間。\n",
    "\n",
    "$$\n",
    "X_{scaled} = \\frac{X - X.min}{X.max - X.min}\n",
    "$$\n",
    "\n",
    "默認是對每一列都去做縮放。\n",
    "\n",
    "## MaxAbsScaler\n",
    "數據會縮放到到 $[-1,1]$ 之間，方法類似 MinMaxScaler。\n",
    "\n",
    "\n",
    "## RobustScaler\n",
    "可以有效的縮放帶有outlier的數據，透過Robust如果數據中含有異常值在縮放中會捨去。\n",
    "\n",
    "\n",
    "\n",
    "\n",
    "\n"
   ]
  },
  {
   "cell_type": "code",
   "execution_count": 4,
   "metadata": {},
   "outputs": [
    {
     "name": "stdout",
     "output_type": "stream",
     "text": [
      "資料集 X 的平均值 :  [5.84333333 3.05733333 3.758      1.19933333]\n",
      "資料集 X 的標準差 :  [0.82530129 0.43441097 1.75940407 0.75969263]\n",
      "\n",
      "StandardScaler 縮放過後的平均值 :  [-1.69031455e-15 -1.84297022e-15 -1.69864123e-15 -1.40924309e-15]\n",
      "StandardScaler 縮放過後的標準差 :  [1. 1. 1. 1.]\n"
     ]
    }
   ],
   "source": [
    "from sklearn import datasets\n",
    "from sklearn.preprocessing import StandardScaler\n",
    "\n",
    "\n",
    "X, y = datasets.load_iris(return_X_y=True)\n",
    "\n",
    "scaler = StandardScaler()\n",
    "X_scaled = scaler.fit_transform(X)\n",
    "\n",
    "# scaled之後的資料零均值，單位方差  \n",
    "print('資料集 X 的平均值 : ', X.mean(axis=0))\n",
    "print('資料集 X 的標準差 : ', X.std(axis=0))\n",
    "\n",
    "print('\\nStandardScaler 縮放過後的平均值 : ', X_scaled.mean(axis=0))\n",
    "print('StandardScaler 縮放過後的標準差 : ', X_scaled.std(axis=0))\n",
    "\n",
    "\n"
   ]
  },
  {
   "cell_type": "code",
   "execution_count": 5,
   "metadata": {},
   "outputs": [
    {
     "name": "stdout",
     "output_type": "stream",
     "text": [
      "資料集 X 的最小值 :  [4.3 2.  1.  0.1]\n",
      "資料集 X 的最大值 :  [7.9 4.4 6.9 2.5]\n",
      "\n",
      "StandardScaler 縮放過後的最小值 :  [0. 0. 0. 0.]\n",
      "StandardScaler 縮放過後的最大值 :  [1. 1. 1. 1.]\n"
     ]
    }
   ],
   "source": [
    "from sklearn.preprocessing import MinMaxScaler\n",
    "\n",
    "scaler = MinMaxScaler()\n",
    "X_scaled = scaler.fit_transform(X)\n",
    "\n",
    "# scaled 之後的資料最小值、最大值  \n",
    "print('資料集 X 的最小值 : ', X.min(axis=0))\n",
    "print('資料集 X 的最大值 : ', X.max(axis=0))\n",
    "\n",
    "print('\\nStandardScaler 縮放過後的最小值 : ', X_scaled.min(axis=0))\n",
    "print('StandardScaler 縮放過後的最大值 : ', X_scaled.max(axis=0))\n",
    "\n"
   ]
  },
  {
   "cell_type": "code",
   "execution_count": 10,
   "metadata": {},
   "outputs": [
    {
     "name": "stdout",
     "output_type": "stream",
     "text": [
      "資料集 X 的最小值 :  [4.3 2.  1.  0.1]\n",
      "資料集 X 的最大值 :  [7.9 4.4 6.9 2.5]\n",
      "\n",
      "StandardScaler 縮放過後的最小值 :  [0.5443038  0.45454545 0.14492754 0.04      ]\n",
      "StandardScaler 縮放過後的最大值 :  [1. 1. 1. 1.]\n"
     ]
    }
   ],
   "source": [
    "from sklearn.preprocessing import MaxAbsScaler\n",
    "\n",
    "X, y = datasets.load_iris(return_X_y=True)\n",
    "# X = X-3\n",
    "scaler = MaxAbsScaler()\n",
    "X_scaled = scaler.fit_transform(X)\n",
    "\n",
    "\n",
    "# scaled 之後的資料最小值、最大值  \n",
    "print('資料集 X 的最小值 : ', X.min(axis=0))\n",
    "print('資料集 X 的最大值 : ', X.max(axis=0))\n",
    "\n",
    "print('\\nStandardScaler 縮放過後的最小值 : ', X_scaled.min(axis=0))\n",
    "print('StandardScaler 縮放過後的最大值 : ', X_scaled.max(axis=0))\n",
    "\n"
   ]
  },
  {
   "cell_type": "code",
   "execution_count": 11,
   "metadata": {},
   "outputs": [
    {
     "name": "stdout",
     "output_type": "stream",
     "text": [
      "資料集 X 的最小值 :  [4.3 2.  1.  0.1]\n",
      "資料集 X 的最大值 :  [7.9 4.4 6.9 2.5]\n",
      "\n",
      "StandardScaler 縮放過後的最小值 :  [-1.15384615 -2.         -0.95714286 -0.8       ]\n",
      "StandardScaler 縮放過後的最大值 :  [1.61538462 2.8        0.72857143 0.8       ]\n"
     ]
    }
   ],
   "source": [
    "from sklearn.preprocessing import RobustScaler\n",
    "\n",
    "scaler = RobustScaler()\n",
    "X_scaled = scaler.fit_transform(X)\n",
    "\n",
    "\n",
    "# scaled 之後的資料最小值、最大值  \n",
    "print('資料集 X 的最小值 : ', X.min(axis=0))\n",
    "print('資料集 X 的最大值 : ', X.max(axis=0))\n",
    "\n",
    "print('\\nStandardScaler 縮放過後的最小值 : ', X_scaled.min(axis=0))\n",
    "print('StandardScaler 縮放過後的最大值 : ', X_scaled.max(axis=0))\n",
    "\n"
   ]
  },
  {
   "cell_type": "code",
   "execution_count": null,
   "metadata": {},
   "outputs": [],
   "source": []
  },
  {
   "cell_type": "code",
   "execution_count": null,
   "metadata": {},
   "outputs": [],
   "source": []
  },
  {
   "cell_type": "code",
   "execution_count": null,
   "metadata": {},
   "outputs": [],
   "source": []
  },
  {
   "cell_type": "code",
   "execution_count": null,
   "metadata": {},
   "outputs": [],
   "source": []
  }
 ],
 "metadata": {
  "interpreter": {
   "hash": "549b01b8770a449fcafc071c7787f89a2f53b23f9a1d6ed8b20b3c6659102a25"
  },
  "kernelspec": {
   "display_name": "Python 3.8.8 ('toby')",
   "language": "python",
   "name": "python3"
  },
  "language_info": {
   "codemirror_mode": {
    "name": "ipython",
    "version": 3
   },
   "file_extension": ".py",
   "mimetype": "text/x-python",
   "name": "python",
   "nbconvert_exporter": "python",
   "pygments_lexer": "ipython3",
   "version": "3.8.8"
  },
  "orig_nbformat": 4
 },
 "nbformat": 4,
 "nbformat_minor": 2
}
