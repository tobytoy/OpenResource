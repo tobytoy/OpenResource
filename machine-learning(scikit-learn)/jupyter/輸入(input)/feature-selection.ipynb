{
 "cells": [
  {
   "cell_type": "markdown",
   "metadata": {},
   "source": [
    "# feature selection\n",
    "\n",
    "下面介紹常見的特徵選擇的方法，第一種就是根據 Variance 去篩選，如果有非常相似就可以刪除。\n",
    "\n",
    "\n",
    "\n"
   ]
  },
  {
   "cell_type": "code",
   "execution_count": 1,
   "metadata": {},
   "outputs": [
    {
     "data": {
      "text/plain": [
       "array([[0, 1],\n",
       "       [1, 0],\n",
       "       [0, 0],\n",
       "       [1, 1],\n",
       "       [1, 0],\n",
       "       [1, 1]])"
      ]
     },
     "execution_count": 1,
     "metadata": {},
     "output_type": "execute_result"
    }
   ],
   "source": [
    "from sklearn.feature_selection import VarianceThreshold\n",
    "\n",
    "X = [[0, 0, 1], [0, 1, 0], [1, 0, 0], [0, 1, 1], [0, 1, 0], [0, 1, 1]]\n",
    "sel = VarianceThreshold(threshold=(.8 * (1 - .8)))\n",
    "sel.fit_transform(X)\n"
   ]
  },
  {
   "cell_type": "markdown",
   "metadata": {},
   "source": [
    "我們也可以基於統計的變異數分析(ANOVA)去選，\n",
    "我們可以用 SelectKBest 直接選出最好的，\n",
    "或是用 SelectPercentile 根據百分比去選出前面好的特徵。\n",
    "\n"
   ]
  },
  {
   "cell_type": "code",
   "execution_count": 11,
   "metadata": {},
   "outputs": [
    {
     "name": "stdout",
     "output_type": "stream",
     "text": [
      "Shape:  (150, 4)\n",
      "Best 2:  (150, 2)\n"
     ]
    },
    {
     "data": {
      "text/plain": [
       "(150, 1)"
      ]
     },
     "execution_count": 11,
     "metadata": {},
     "output_type": "execute_result"
    }
   ],
   "source": [
    "from sklearn.datasets import load_iris\n",
    "from sklearn.feature_selection import SelectKBest, SelectPercentile\n",
    "from sklearn.feature_selection import chi2\n",
    "X, y = load_iris(return_X_y=True)\n",
    "\n",
    "print('Shape: ', X.shape)\n",
    "\n",
    "# 最好的幾個\n",
    "X_new = SelectKBest(chi2, k=2).fit_transform(X, y)\n",
    "print('Best 2: ', X_new.shape)\n",
    "\n",
    "# 前百分比好的\n",
    "X_new = SelectPercentile(chi2, percentile=30).fit_transform(X, y)\n",
    "X_new.shape\n"
   ]
  },
  {
   "cell_type": "markdown",
   "metadata": {},
   "source": [
    "下面看一下 pipeline 的使用"
   ]
  },
  {
   "cell_type": "code",
   "execution_count": 25,
   "metadata": {},
   "outputs": [
    {
     "name": "stdout",
     "output_type": "stream",
     "text": [
      "Percent 1, kernel linear Testing accuracy: 0.933\n",
      "Percent 1, kernel poly Testing accuracy: 0.933\n",
      "Percent 1, kernel rbf Testing accuracy: 0.933\n",
      "Percent 1, kernel sigmoid Testing accuracy: 0.9\n",
      "Percent 10, kernel linear Testing accuracy: 0.933\n",
      "Percent 10, kernel poly Testing accuracy: 0.933\n",
      "Percent 10, kernel rbf Testing accuracy: 0.933\n",
      "Percent 10, kernel sigmoid Testing accuracy: 0.9\n",
      "Percent 20, kernel linear Testing accuracy: 0.933\n",
      "Percent 20, kernel poly Testing accuracy: 0.933\n",
      "Percent 20, kernel rbf Testing accuracy: 0.933\n",
      "Percent 20, kernel sigmoid Testing accuracy: 0.9\n",
      "Percent 50, kernel linear Testing accuracy: 0.967\n",
      "Percent 50, kernel poly Testing accuracy: 0.967\n",
      "Percent 50, kernel rbf Testing accuracy: 0.967\n",
      "Percent 50, kernel sigmoid Testing accuracy: 0.967\n",
      "Percent 100, kernel linear Testing accuracy: 0.967\n",
      "Percent 100, kernel poly Testing accuracy: 0.967\n",
      "Percent 100, kernel rbf Testing accuracy: 0.967\n",
      "Percent 100, kernel sigmoid Testing accuracy: 0.9\n"
     ]
    }
   ],
   "source": [
    "from sklearn.datasets import load_iris\n",
    "from sklearn.pipeline import Pipeline\n",
    "from sklearn.feature_selection import SelectKBest, SelectPercentile\n",
    "from sklearn.feature_selection import chi2\n",
    "from sklearn.model_selection import train_test_split\n",
    "from sklearn.preprocessing import StandardScaler\n",
    "from sklearn.svm import SVC\n",
    "\n",
    "X, y = load_iris(return_X_y=True)\n",
    "X_train, X_test, y_train, y_test = train_test_split(X, y, test_size=0.2, random_state=87)\n",
    "\n",
    "\n",
    "model_pipeline = Pipeline(\n",
    "    [\n",
    "        (\"anova\", SelectPercentile(chi2)),\n",
    "        (\"scaler\", StandardScaler()),\n",
    "        (\"svc\", SVC(C=1, random_state=87, tol=1e-5)),\n",
    "    ]\n",
    ")\n",
    "\n",
    "percentiles = (1, 10, 20, 50, 100)\n",
    "kernels = ('linear', 'poly', 'rbf', 'sigmoid')\n",
    "\n",
    "for percentile in percentiles:\n",
    "    for ker in kernels:\n",
    "        model_pipeline.set_params(anova__percentile=percentile, svc__kernel=ker)\n",
    "        model_pipeline.fit(X_train, y_train)\n",
    "        print('Percent %s, kernel %s Testing accuracy: %s' % (percentile, ker, round(model_pipeline.score(X_test, y_test),3)))\n",
    "\n"
   ]
  },
  {
   "cell_type": "code",
   "execution_count": 26,
   "metadata": {},
   "outputs": [
    {
     "data": {
      "text/plain": [
       "dict_keys(['memory', 'steps', 'verbose', 'anova', 'scaler', 'svc', 'anova__percentile', 'anova__score_func', 'scaler__copy', 'scaler__with_mean', 'scaler__with_std', 'svc__C', 'svc__break_ties', 'svc__cache_size', 'svc__class_weight', 'svc__coef0', 'svc__decision_function_shape', 'svc__degree', 'svc__gamma', 'svc__kernel', 'svc__max_iter', 'svc__probability', 'svc__random_state', 'svc__shrinking', 'svc__tol', 'svc__verbose'])"
      ]
     },
     "execution_count": 26,
     "metadata": {},
     "output_type": "execute_result"
    }
   ],
   "source": [
    "# 可以知道 pipeline 的可調參數\n",
    "model_pipeline.get_params().keys()"
   ]
  },
  {
   "cell_type": "markdown",
   "metadata": {},
   "source": [
    "還有其他的特徵選擇器，但是就介紹到這邊，更多內容可以參考 [feature_selection](https://scikit-learn.org/stable/modules/feature_selection.html)。\n",
    "\n",
    "\n"
   ]
  },
  {
   "cell_type": "code",
   "execution_count": null,
   "metadata": {},
   "outputs": [],
   "source": []
  },
  {
   "cell_type": "code",
   "execution_count": null,
   "metadata": {},
   "outputs": [],
   "source": []
  }
 ],
 "metadata": {
  "kernelspec": {
   "display_name": "Python 3.8.8 ('toby')",
   "language": "python",
   "name": "python3"
  },
  "language_info": {
   "codemirror_mode": {
    "name": "ipython",
    "version": 3
   },
   "file_extension": ".py",
   "mimetype": "text/x-python",
   "name": "python",
   "nbconvert_exporter": "python",
   "pygments_lexer": "ipython3",
   "version": "3.8.8"
  },
  "orig_nbformat": 4,
  "vscode": {
   "interpreter": {
    "hash": "9f507bc0c6a586295e3338d11ec3fe19c4f242dbc5a06bb50ca7be29aa175c9f"
   }
  }
 },
 "nbformat": 4,
 "nbformat_minor": 2
}
