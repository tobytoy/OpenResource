{
 "cells": [
  {
   "cell_type": "markdown",
   "metadata": {},
   "source": [
    "# feature selection\n",
    "\n",
    "下面介紹一些常見的特徵選擇的方法，第一種就是根據 Variance 去做篩選，如果有非常相似的就可以直接刪除。\n",
    "\n",
    "\n",
    "\n"
   ]
  },
  {
   "cell_type": "code",
   "execution_count": 1,
   "metadata": {},
   "outputs": [
    {
     "data": {
      "text/plain": [
       "array([[0, 1],\n",
       "       [1, 0],\n",
       "       [0, 0],\n",
       "       [1, 1],\n",
       "       [1, 0],\n",
       "       [1, 1]])"
      ]
     },
     "execution_count": 1,
     "metadata": {},
     "output_type": "execute_result"
    }
   ],
   "source": [
    "from sklearn.feature_selection import VarianceThreshold\n",
    "\n",
    "X = [[0, 0, 1], [0, 1, 0], [1, 0, 0], [0, 1, 1], [0, 1, 0], [0, 1, 1]]\n",
    "sel = VarianceThreshold(threshold=(.8 * (1 - .8)))\n",
    "sel.fit_transform(X)\n"
   ]
  },
  {
   "cell_type": "markdown",
   "metadata": {},
   "source": [
    "我們也可以基於統計的變異數分析 （ANOVA） 去選，\n",
    "使用 SelectKBest 直接選出最好的，\n",
    "或是用 SelectPercentile 根據百分比去挑選出前面較好的特徵。\n",
    "\n",
    "\n",
    "ANOVA 是 Analysis of Variance 的簡寫，\n",
    "ANOVA 是先利用 F-test 估計兩個隨機變數的相關度，再去決定要不要用這個特徵， \n",
    "所以這個方法比上面說的直接設定閾值去決定要不要用來得更為科學。\n",
    "\n",
    "下面看使用範例\n"
   ]
  },
  {
   "cell_type": "code",
   "execution_count": 2,
   "metadata": {},
   "outputs": [
    {
     "name": "stdout",
     "output_type": "stream",
     "text": [
      "Shape:  (150, 4)\n",
      "Best 2:  (150, 2)\n"
     ]
    },
    {
     "data": {
      "text/plain": [
       "(150, 1)"
      ]
     },
     "execution_count": 2,
     "metadata": {},
     "output_type": "execute_result"
    }
   ],
   "source": [
    "from sklearn.datasets import load_iris\n",
    "from sklearn.feature_selection import SelectKBest, SelectPercentile\n",
    "from sklearn.feature_selection import chi2, f_classif, mutual_info_classif\n",
    "X, y = load_iris(return_X_y=True)\n",
    "\n",
    "print('Shape: ', X.shape)\n",
    "\n",
    "# 最好的幾個\n",
    "X_new = SelectKBest(chi2, k=2).fit_transform(X, y)\n",
    "print('Best 2: ', X_new.shape)\n",
    "\n",
    "# 前百分比好的\n",
    "X_new = SelectPercentile(chi2, percentile=30).fit_transform(X, y)\n",
    "X_new.shape\n"
   ]
  },
  {
   "cell_type": "markdown",
   "metadata": {},
   "source": [
    "上面大家有注意到 chi2 嗎? 可以使用的不只有 chi2\n",
    "\n",
    "* 對回歸問題 : f_regression, mutual_info_regression\n",
    "* 對分類問題 : chi2, f_classif, mutual_info_classif\n",
    "\n",
    "如果你的資料是稀疏資料，可以使用 chi2, mutual_info_regression, mutual_info_classif 去處理你的資料。\n",
    "\n",
    "\n",
    "下面看一下 pipeline 的使用實例\n"
   ]
  },
  {
   "cell_type": "code",
   "execution_count": 25,
   "metadata": {},
   "outputs": [
    {
     "name": "stdout",
     "output_type": "stream",
     "text": [
      "Percent 1, kernel linear Testing accuracy: 0.933\n",
      "Percent 1, kernel poly Testing accuracy: 0.933\n",
      "Percent 1, kernel rbf Testing accuracy: 0.933\n",
      "Percent 1, kernel sigmoid Testing accuracy: 0.9\n",
      "Percent 10, kernel linear Testing accuracy: 0.933\n",
      "Percent 10, kernel poly Testing accuracy: 0.933\n",
      "Percent 10, kernel rbf Testing accuracy: 0.933\n",
      "Percent 10, kernel sigmoid Testing accuracy: 0.9\n",
      "Percent 20, kernel linear Testing accuracy: 0.933\n",
      "Percent 20, kernel poly Testing accuracy: 0.933\n",
      "Percent 20, kernel rbf Testing accuracy: 0.933\n",
      "Percent 20, kernel sigmoid Testing accuracy: 0.9\n",
      "Percent 50, kernel linear Testing accuracy: 0.967\n",
      "Percent 50, kernel poly Testing accuracy: 0.967\n",
      "Percent 50, kernel rbf Testing accuracy: 0.967\n",
      "Percent 50, kernel sigmoid Testing accuracy: 0.967\n",
      "Percent 100, kernel linear Testing accuracy: 0.967\n",
      "Percent 100, kernel poly Testing accuracy: 0.967\n",
      "Percent 100, kernel rbf Testing accuracy: 0.967\n",
      "Percent 100, kernel sigmoid Testing accuracy: 0.9\n"
     ]
    }
   ],
   "source": [
    "from sklearn.datasets import load_iris\n",
    "from sklearn.pipeline import Pipeline\n",
    "from sklearn.feature_selection import SelectKBest, SelectPercentile\n",
    "from sklearn.feature_selection import chi2\n",
    "from sklearn.model_selection import train_test_split\n",
    "from sklearn.preprocessing import StandardScaler\n",
    "from sklearn.svm import SVC\n",
    "\n",
    "X, y = load_iris(return_X_y=True)\n",
    "X_train, X_test, y_train, y_test = train_test_split(X, y, test_size=0.2, random_state=87)\n",
    "\n",
    "\n",
    "model_pipeline = Pipeline(\n",
    "    [\n",
    "        (\"anova\", SelectPercentile(chi2)),\n",
    "        (\"scaler\", StandardScaler()),\n",
    "        (\"svc\", SVC(C=1, random_state=87, tol=1e-5)),\n",
    "    ]\n",
    ")\n",
    "\n",
    "percentiles = (1, 10, 20, 50, 100)\n",
    "kernels = ('linear', 'poly', 'rbf', 'sigmoid')\n",
    "\n",
    "for percentile in percentiles:\n",
    "    for ker in kernels:\n",
    "        model_pipeline.set_params(anova__percentile=percentile, svc__kernel=ker)\n",
    "        model_pipeline.fit(X_train, y_train)\n",
    "        print('Percent %s, kernel %s Testing accuracy: %s' % (percentile, ker, round(model_pipeline.score(X_test, y_test),3)))\n",
    "\n"
   ]
  },
  {
   "cell_type": "code",
   "execution_count": 26,
   "metadata": {},
   "outputs": [
    {
     "data": {
      "text/plain": [
       "dict_keys(['memory', 'steps', 'verbose', 'anova', 'scaler', 'svc', 'anova__percentile', 'anova__score_func', 'scaler__copy', 'scaler__with_mean', 'scaler__with_std', 'svc__C', 'svc__break_ties', 'svc__cache_size', 'svc__class_weight', 'svc__coef0', 'svc__decision_function_shape', 'svc__degree', 'svc__gamma', 'svc__kernel', 'svc__max_iter', 'svc__probability', 'svc__random_state', 'svc__shrinking', 'svc__tol', 'svc__verbose'])"
      ]
     },
     "execution_count": 26,
     "metadata": {},
     "output_type": "execute_result"
    }
   ],
   "source": [
    "# 可以知道 pipeline 的可調參數\n",
    "model_pipeline.get_params().keys()"
   ]
  },
  {
   "cell_type": "markdown",
   "metadata": {},
   "source": [
    "# recursive feature elimination （RFE）\n",
    "\n",
    "下面介紹另一種刪除特徵數量的方法， \n",
    "假設現在有10位選手，我們要從裡面選出5位較佳的選手， \n",
    "那怎麼挑選的方法有哪些？我們可以在10位裡面先剔除最弱的剩9位， \n",
    "再從9位裡面找到最弱的將他踢掉剩8位，這個步驟循環下去直到剩5位，這就是 RFE 的做法， \n",
    "但以特徵而言，我們怎麼知道哪個特徵是最弱的 或是說最不重要的， \n",
    "可以這麼說，我們拿資料來訓練一個線性模型時，當訓練好以後，檢視前面係數越小的特徵就是越不重要的， \n",
    "這樣我們就可以簡單知道不同特徵的重要性， \n",
    "在使用 RFE 的時候，我們也可以自己去選用來估計的模型。\n",
    "\n",
    "\n",
    "下面來看怎麼用\n",
    "\n"
   ]
  },
  {
   "cell_type": "code",
   "execution_count": 46,
   "metadata": {},
   "outputs": [
    {
     "name": "stdout",
     "output_type": "stream",
     "text": [
      "Support: \n",
      "[ True False False False False False False  True False False False  True\n",
      "  True False False False False  True False False False False False False\n",
      " False]\n",
      "Rank: \n",
      "[ 1  2 16 18  9 19  6  1 10  5  7  1  1 15 11  4 21  1  8 14 20  3 17 13\n",
      " 12]\n",
      "Optimal number of features : 5\n"
     ]
    }
   ],
   "source": [
    "from sklearn.svm import SVC\n",
    "from sklearn.feature_selection import RFE\n",
    "import matplotlib.pyplot as plt\n",
    "\n",
    "# 建立 25 個特徵，但只有三個信號源，的 8 分類資料\n",
    "X, y = make_classification(\n",
    "    n_samples=1000,\n",
    "    n_features=25,\n",
    "    n_informative=3,\n",
    "    n_redundant=2,\n",
    "    n_repeated=0,\n",
    "    n_classes=8,\n",
    "    n_clusters_per_class=1,\n",
    "    random_state=87,\n",
    ")\n",
    "\n",
    "# 使用 RFE\n",
    "# n_features_to_select : 決定要多少個 feature\n",
    "# step : 每一回合要刪除多少特徵\n",
    "estimator = SVC(kernel='linear', C=1)\n",
    "rfe = RFE(estimator=estimator, n_features_to_select=5, step=1).fit(X, y)  # n_features_to_select=10, n_features_to_select = 0.5\n",
    "\n",
    "print('Support: \\n%s' % rfe.support_)\n",
    "print('Rank: \\n%s' % rfe.ranking_)\n",
    "print('Optimal number of features : %d' % rfe.n_features_)\n"
   ]
  },
  {
   "cell_type": "code",
   "execution_count": 47,
   "metadata": {},
   "outputs": [
    {
     "data": {
      "text/plain": [
       "array([[ 1.80678641,  2.66158504, -2.46215505, -2.99051596,  0.6068705 ],\n",
       "       [ 1.83963165,  2.65680383, -1.97293455, -1.59311044, -0.56114034],\n",
       "       [-1.65721385, -1.94083679,  1.58932478,  1.17679536,  0.23580989],\n",
       "       ...,\n",
       "       [ 1.03906737,  1.23563709, -0.70309339,  0.08779769, -0.87139582],\n",
       "       [ 0.86165098,  0.36885175, -0.21534377,  0.71178042, -0.55712631],\n",
       "       [ 1.42597326,  0.4125871 , -0.63387651,  0.29214804,  0.04660556]])"
      ]
     },
     "execution_count": 47,
     "metadata": {},
     "output_type": "execute_result"
    }
   ],
   "source": [
    "# 得到他\n",
    "rfe.transform(X)"
   ]
  },
  {
   "cell_type": "markdown",
   "metadata": {},
   "source": [
    "RFE 也可以搭配 cross-validation，下面是使用範例"
   ]
  },
  {
   "cell_type": "code",
   "execution_count": 44,
   "metadata": {},
   "outputs": [
    {
     "name": "stdout",
     "output_type": "stream",
     "text": [
      "Support: \n",
      "[False  True False False False False False  True False False False False\n",
      " False False False False False False  True False False False False False\n",
      " False]\n",
      "Rank: \n",
      "[ 5  1 12 19 15  6 17  1  2 21 23 11 16 10 13 22  8 14  1 20  7  9  3  4\n",
      " 18]\n",
      "Optimal number of features : 3\n"
     ]
    },
    {
     "data": {
      "image/png": "[encoded data removed]",
      "text/plain": [
       "<Figure size 720x720 with 1 Axes>"
      ]
     },
     "metadata": {
      "needs_background": "light"
     },
     "output_type": "display_data"
    }
   ],
   "source": [
    "import matplotlib.pyplot as plt\n",
    "from sklearn.svm import SVC\n",
    "from sklearn.model_selection import StratifiedKFold\n",
    "from sklearn.feature_selection import RFECV\n",
    "from sklearn.datasets import make_classification\n",
    "import numpy as np\n",
    "\n",
    "\n",
    "X, y = make_classification(\n",
    "    n_samples=1000,\n",
    "    n_features=25,\n",
    "    n_informative=3,\n",
    "    n_redundant=2,\n",
    "    n_repeated=0,\n",
    "    n_classes=8,\n",
    "    n_clusters_per_class=1,\n",
    "    random_state=0,\n",
    ")\n",
    "cv_number = 3\n",
    "\n",
    "# 建立 RFECV\n",
    "estimator = SVC(kernel=\"linear\")\n",
    "rfecv = RFECV(\n",
    "    estimator=estimator ,\n",
    "    step=1,\n",
    "    cv=StratifiedKFold(cv_number),\n",
    "    scoring=\"accuracy\",\n",
    "    min_features_to_select=1,\n",
    ").fit(X, y)\n",
    "\n",
    "print('Support: \\n%s' % rfecv.support_)\n",
    "print('Rank: \\n%s' % rfecv.ranking_)\n",
    "print(\"Optimal number of features : %d\" % rfecv.n_features_)\n",
    "\n",
    "scores = np.transpose([rfecv.cv_results_['split%s_test_score'%i] for i in range(cv_number)])\n",
    "\n",
    "# Plot\n",
    "plt.figure(figsize=(10,10))\n",
    "plt.xlabel(\"Number of features selected\")\n",
    "plt.ylabel(\"CV score (accuracy)\")\n",
    "plt.plot(range(1, len(scores) + 1), scores)\n",
    "plt.show()\n"
   ]
  },
  {
   "cell_type": "code",
   "execution_count": 48,
   "metadata": {},
   "outputs": [
    {
     "data": {
      "text/plain": [
       "array([[ 0.15007977,  2.66158504,  1.01699057],\n",
       "       [ 0.67112041,  2.65680383, -0.54236691],\n",
       "       [-0.21675353, -1.94083679,  1.05601842],\n",
       "       ...,\n",
       "       [ 0.87299711,  1.23563709,  0.8920512 ],\n",
       "       [ 0.00740367,  0.36885175,  1.19109903],\n",
       "       [ 0.50742874,  0.4125871 , -1.04081764]])"
      ]
     },
     "execution_count": 48,
     "metadata": {},
     "output_type": "execute_result"
    }
   ],
   "source": [
    "# 得到他\n",
    "rfecv.transform(X)"
   ]
  },
  {
   "cell_type": "markdown",
   "metadata": {},
   "source": [
    "# SelectFromModel\n",
    "\n",
    "下面要提的 SelectFromModel 使用的方法是 meta-transformer，\n",
    "使用的方法跟上面說的很像，要先準備一個模型，\n",
    "這個模型要有 ``feature_importances_`` or ``coef_`` 屬性，\n",
    "模型是要訓練過的，然後要設定 ``prefit=True``。\n",
    "\n",
    "\n",
    "\n",
    "下面就來看一個簡單的使用例子。\n",
    "\n"
   ]
  },
  {
   "cell_type": "code",
   "execution_count": 58,
   "metadata": {},
   "outputs": [
    {
     "name": "stdout",
     "output_type": "stream",
     "text": [
      "Data shape:  (1000, 25)\n",
      "New Data Shape:  (1000, 5)\n"
     ]
    }
   ],
   "source": [
    "from sklearn.svm import SVC\n",
    "from sklearn.feature_selection import SelectFromModel\n",
    "\n",
    "X, y = make_classification(\n",
    "    n_samples=1000,\n",
    "    n_features=25,\n",
    "    n_informative=3,\n",
    "    n_redundant=2,\n",
    "    n_repeated=0,\n",
    "    n_classes=8,\n",
    "    n_clusters_per_class=1,\n",
    "    random_state=87,\n",
    ")\n",
    "\n",
    "# 要放訓練過的模型\n",
    "estimator = SVC(kernel='linear', C=1).fit(X, y)\n",
    "X_new = SelectFromModel(estimator, prefit=True).transform(X)\n",
    "\n",
    "print('Data shape: ', X.shape)\n",
    "print('New Data Shape: ', X_new.shape)\n",
    "\n"
   ]
  },
  {
   "cell_type": "markdown",
   "metadata": {},
   "source": [
    "還有其他的特徵選擇器，目前就介紹到這邊，更多內容可以參考 [feature_selection](https://scikit-learn.org/stable/modules/feature_selection.html)。"
   ]
  },
  {
   "cell_type": "code",
   "execution_count": null,
   "metadata": {},
   "outputs": [],
   "source": []
  },
  {
   "cell_type": "code",
   "execution_count": null,
   "metadata": {},
   "outputs": [],
   "source": []
  }
 ],
 "metadata": {
  "kernelspec": {
   "display_name": "Python 3.8.8 ('toby')",
   "language": "python",
   "name": "python3"
  },
  "language_info": {
   "codemirror_mode": {
    "name": "ipython",
    "version": 3
   },
   "file_extension": ".py",
   "mimetype": "text/x-python",
   "name": "python",
   "nbconvert_exporter": "python",
   "pygments_lexer": "ipython3",
   "version": "3.8.8"
  },
  "orig_nbformat": 4,
  "vscode": {
   "interpreter": {
    "hash": "9f507bc0c6a586295e3338d11ec3fe19c4f242dbc5a06bb50ca7be29aa175c9f"
   }
  }
 },
 "nbformat": 4,
 "nbformat_minor": 2
}
