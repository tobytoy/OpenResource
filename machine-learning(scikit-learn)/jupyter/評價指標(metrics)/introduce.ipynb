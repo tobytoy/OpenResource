{
 "cells": [
  {
   "cell_type": "markdown",
   "metadata": {},
   "source": [
    "https://scikit-learn.org/stable/modules/model_evaluation.html"
   ]
  },
  {
   "cell_type": "markdown",
   "metadata": {},
   "source": [
    "在 scikit-learn 裡面任務的類型可以分為 $3$ 類，Classification, Regression, Clustering。 <br>\n",
    "\n",
    "所以指標也會分為三個部分，來說。\n",
    "\n",
    "\n",
    "下面列出在 scikit learn 提供的方法。\n",
    "\n",
    "\n",
    "| Regression | Classification | Clustering |\n",
    "| :----: | :----: | :----: |\n",
    "| explained_variance_score | accuracy_score | adjusted_mutual_info_score |\n",
    "| max_error | balanced_accuracy_score | adjusted_rand_score |\n",
    "| mean_absolute_error | top_k_accuracy_score | completeness_score |\n",
    "| mean_squared_error | average_precision_score | fowlkes_mallows_score |\n",
    "| mean_squared_log_error | brier_score_loss | homogeneity_score |\n",
    "| median_absolute_error | f1_score | mutual_info_score |\n",
    "| r2_score | log_loss | normalized_mutual_info_score |\n",
    "| mean_poisson_deviance | precision_score | rand_score |\n",
    "| mean_gamma_deviance | recall_score | v_measure_score |\n",
    "| mean_absolute_percentage_error | jaccard_score | |\n",
    "| d2_absolute_error_score | roc_auc_score | | \n",
    "| d2_pinball_score | | |\n",
    "| d2_tweedie_score | | |\n",
    "\n"
   ]
  },
  {
   "cell_type": "code",
   "execution_count": null,
   "metadata": {},
   "outputs": [],
   "source": []
  },
  {
   "cell_type": "code",
   "execution_count": null,
   "metadata": {},
   "outputs": [],
   "source": []
  },
  {
   "cell_type": "code",
   "execution_count": null,
   "metadata": {},
   "outputs": [],
   "source": []
  },
  {
   "cell_type": "code",
   "execution_count": null,
   "metadata": {},
   "outputs": [],
   "source": []
  }
 ],
 "metadata": {
  "kernelspec": {
   "display_name": "Python 3.8.8 ('toby')",
   "language": "python",
   "name": "python3"
  },
  "language_info": {
   "name": "python",
   "version": "3.8.8"
  },
  "orig_nbformat": 4,
  "vscode": {
   "interpreter": {
    "hash": "9f507bc0c6a586295e3338d11ec3fe19c4f242dbc5a06bb50ca7be29aa175c9f"
   }
  }
 },
 "nbformat": 4,
 "nbformat_minor": 2
}
