{
 "cells": [
  {
   "cell_type": "markdown",
   "metadata": {},
   "source": [
    "# Clustering performance evaluation\n",
    "這次要介紹在分群 clustering 任務上的評價指標。"
   ]
  },
  {
   "cell_type": "markdown",
   "metadata": {},
   "source": [
    "## rand index\n",
    "\n",
    "假設有集合 \n",
    "\n",
    "$$\n",
    "S=\\{ s_1, s_2, \\cdots, s_n \\}\n",
    "$$\n",
    "\n",
    "我們有兩個分群的方法\n",
    "\n",
    "$$\n",
    "X=\\{ X_1,X_2, \\cdots, X_p\\}, Y=\\{ Y_1,Y_2, \\cdots, Y_q\\}\n",
    "$$\n",
    "\n",
    "我們定義下面四個數\n",
    "\n",
    "* $a$ 表示在 $S$ 中的元素對，一起在 $X$ 中的同個子集，也一起在 $Y$ 中的同個子集，的元素對數量。\n",
    "* $b$ 表示在 $S$ 中的元素對，在 $X$ 中的不同個子集，在 $Y$ 中的不同個子集，的元素對數量。\n",
    "* $c$ 表示在 $S$ 中的元素對，一起在 $X$ 中的同個子集，在 $Y$ 中的不同個子集，的元素對數量。\n",
    "* $d$ 表示在 $S$ 中的元素對，在 $X$ 中的不同個子集，一起在 $Y$ 中的同個子集，的元素對數量。\n",
    "\n",
    "我們就可以定義 RI （rand index）\n",
    "\n",
    "$$\n",
    "RI := \\frac{a+b}{a+b+c+d} = \\frac{a+b}{C^n_2}\n",
    "$$\n",
    "\n",
    "我們可以用集合的概念表示 $a,b,c,d$ 。\n",
    "\n",
    "$$\n",
    "a = \\#\\{(s_i,s_j) | s_i, s_j  \\in X_k, s_i,s_j \\in Y_l \\}\n",
    "$$\n",
    "\n",
    "$$\n",
    "b = \\#\\{(s_i,s_j) | s_i \\in X_{k_1}, s_j \\in X_{k_2}, s_i \\in Y_{l_1}, s_j \\in Y_{l_2} \\}\n",
    "$$\n",
    "\n",
    "$$\n",
    "c = \\#\\{(s_i,s_j) | s_i, s_j  \\in X_k, s_i \\in Y_{l_1}, s_j \\in Y_{l_2} \\}\n",
    "$$\n",
    "\n",
    "$$\n",
    "d = \\#\\{(s_i,s_j) | s_i \\in X_{k_1}, s_j \\in X_{k_2}, s_i,s_j \\in Y_l \\}\n",
    "$$\n",
    "\n",
    "我們也可以用以前的概念來看，\n",
    "\n",
    "* $a$ 就是 TP （true positive）的數量。\n",
    "* $b$ 就是 TN （true negatives）的數量。\n",
    "* $c$ 就是 FN （false negatives）的數量，也叫偽陰，型二錯誤。\n",
    "* $d$ 就是 FP （false positive）的數量，也叫偽陽，型一錯誤。\n",
    "\n",
    "那 RI 就可以理解為\n",
    "\n",
    "$$\n",
    "RI := \\frac{TP+TN}{TP+TN+FN+FP}\n",
    "$$\n",
    "\n",
    "\n"
   ]
  },
  {
   "cell_type": "markdown",
   "metadata": {},
   "source": [
    "再來要介紹 Adjusted Rand Index ， 他可以理解為修正機率版的 Rand Index ， 為何要提出 ARI 不能用 RI，\n",
    "是因為有人提出在給隨機分群的時候 RI 不靠近 0 ，所以 Hubert 和Arabie 在1985年提出了，\n",
    "可以[參考](https://i11www.iti.kit.edu/extra/publications/ww-cco-06.pdf)。\n",
    "\n",
    "\n",
    "下面要定義一堆符號來講他的公式，\n",
    "假設 $n_{ij} := \\# X_i \\cap Y_j$\n",
    "\n",
    "\n",
    "| X\\Y | $Y_1 \\quad Y_2 \\quad \\cdots \\quad Y_q$ | sum |\n",
    "| :----:| :----: | :----: |\n",
    "| $X_1$ | $n_{11} \\quad n_{12} \\quad \\cdots \\quad n_{1q}$ | $a_1$ |\n",
    "| $X_2$ | $n_{21} \\quad n_{22} \\quad \\cdots \\quad n_{2q}$ | $a_2$ |\n",
    "| $\\vdots$ | $\\vdots \\quad \\vdots \\qquad \\ddots \\quad \\vdots$ | $\\vdots$ |\n",
    "| $X_p$ | $n_{p1} \\quad n_{p2} \\quad \\cdots \\quad n_{pq}$ | $a_p$ |\n",
    "| sum | $b_1 \\quad b_2 \\quad \\cdots \\quad b_q$ |  |\n",
    "\n",
    "\n",
    "我們就可以定義 ARI 為\n",
    "\n",
    "$$\n",
    "ARI := \\frac{RI -E[RI]}{\\max(RI)-E[RI]} \n",
    "= \\frac{\\sum_{ij}C^{n_{ij}}_2 - [t_1 \\cdot t_2]/C^n_2}{\\frac{t_1 + t_2}{2} - [t_1 \\cdot t_2]/C^n_2}\n",
    "$$\n",
    "\n",
    "where $t_1 = \\sum_i C^{a_i}_2, t_2 = \\sum_j C^{b_j}_2$。\n",
    "\n",
    "下面我們實際舉個例子看怎麼計算，\n",
    "假設 $S=\\{1,2,3,4,5\\}$\n",
    "\n",
    "$$\n",
    "X=\\{ X_1=\\{1,2,3\\}, X_2=\\{4,5\\} \\}\n",
    "$$\n",
    "\n",
    "$$\n",
    "Y=\\{ Y_1=\\{1,2\\}, Y_2=\\{3,4,5\\} \\}\n",
    "$$\n",
    "\n",
    "可以得到 Table 長這樣\n",
    "\n",
    "\n",
    "| X\\Y | $Y_1$ | $Y_2$ | sum |\n",
    "| :----: | :----: | :----: | :----: |\n",
    "| $X_1$ | $\\{1,2\\}$ | $\\{3\\}$ | $3$ |\n",
    "| $X_2$ | $\\emptyset$  | $\\{4,5\\}$ | $2$ |\n",
    "| sum | $2$ |  $3$ |  |\n",
    "\n",
    "帶入公式可以算出 $t_1 = t_2 = (C^3_2 + C^2_2) = 4$，也知道 $C^5_2=10$，下面就可以帶入得到\n",
    "\n",
    "$$\n",
    "ARI := \\frac{2-1.6}{4-1.6} \\sim 0.16666666666666663\n",
    "$$\n",
    "\n",
    "下面來看看 scikit-learn 算的結果吧。\n"
   ]
  },
  {
   "cell_type": "code",
   "execution_count": 28,
   "metadata": {},
   "outputs": [
    {
     "data": {
      "text/plain": [
       "0.16666666666666666"
      ]
     },
     "metadata": {},
     "output_type": "display_data"
    }
   ],
   "source": [
    "from sklearn.metrics import adjusted_rand_score\n",
    "\n",
    "labels_true = [0, 0, 0, 1, 1]\n",
    "labels_pred = [0, 0, 1, 1, 1]\n",
    "\n",
    "display(adjusted_rand_score(labels_true, labels_pred))\n"
   ]
  },
  {
   "cell_type": "markdown",
   "metadata": {},
   "source": [
    "下面來測試隨機給分群會接近 0 嗎?\n"
   ]
  },
  {
   "cell_type": "code",
   "execution_count": 44,
   "metadata": {},
   "outputs": [
    {
     "name": "stdout",
     "output_type": "stream",
     "text": [
      "True:  [1, 0, 0, 1, 1]\n",
      "Pred:  [1, 1, 1, 0, 1]\n",
      "Rand score:  0.4\n",
      "Adjusted Rand score:  -0.15384615384615385\n"
     ]
    }
   ],
   "source": [
    "import random\n",
    "from sklearn.metrics import rand_score, adjusted_rand_score\n",
    "\n",
    "n = 5\n",
    "\n",
    "labels_true = [0] * n\n",
    "labels_pred = [0] * n\n",
    "\n",
    "_ = list(range(n))\n",
    "random.shuffle(_)\n",
    "break_index = random.randint(0, n)\n",
    "# print(_[:break_index], _[break_index:])\n",
    "for index in _[break_index:]:\n",
    "    labels_true[index] = 1\n",
    "\n",
    "_ = list(range(n))\n",
    "random.shuffle(_)\n",
    "break_index = random.randint(0, n)\n",
    "for index in _[break_index:]:\n",
    "    labels_pred[index] = 1\n",
    "\n",
    "print('True: ', labels_true)\n",
    "print('Pred: ', labels_pred)\n",
    "print('Rand score: ', rand_score(labels_true, labels_pred))\n",
    "print('Adjusted Rand score: ', adjusted_rand_score(labels_true, labels_pred))\n"
   ]
  },
  {
   "cell_type": "code",
   "execution_count": 55,
   "metadata": {},
   "outputs": [
    {
     "name": "stdout",
     "output_type": "stream",
     "text": [
      "Average Rand score:  0.5548888888888887\n",
      "Average Adjusted Rand score:  0.03951548688319428\n"
     ]
    }
   ],
   "source": [
    "import random\n",
    "from sklearn.metrics import rand_score, adjusted_rand_score\n",
    "\n",
    "n = 10\n",
    "test_time = 1000\n",
    "accumulation_RI  = 0\n",
    "accumulation_ARI = 0\n",
    "\n",
    "def random_split(n=5):\n",
    "    _ = list(range(n))\n",
    "    random.shuffle(_)\n",
    "    break_index = random.randint(0, n)\n",
    "    split_list = [1 if i in _[break_index:] else 0 for i in range(n)]\n",
    "    return split_list\n",
    "\n",
    "for i in range(test_time):\n",
    "    labels_true = random_split(n)\n",
    "    labels_pred = random_split(n)\n",
    "\n",
    "    accumulation_RI += rand_score(labels_true, labels_pred)\n",
    "    accumulation_ARI += adjusted_rand_score(labels_true, labels_pred)\n",
    "\n",
    "accumulation_RI /= test_time\n",
    "accumulation_ARI /= test_time\n",
    "\n",
    "print('Average Rand score: ', accumulation_RI)\n",
    "print('Average Adjusted Rand score: ', accumulation_ARI)\n"
   ]
  },
  {
   "cell_type": "markdown",
   "metadata": {},
   "source": [
    "下面是 scikit-learn 上面的 rand_score 的實際使用 ， 根據上面的說明也可以看出這個方法跟給標記的順序無關。"
   ]
  },
  {
   "cell_type": "code",
   "execution_count": 2,
   "metadata": {},
   "outputs": [
    {
     "data": {
      "text/plain": [
       "0.6666666666666666"
      ]
     },
     "metadata": {},
     "output_type": "display_data"
    },
    {
     "data": {
      "text/plain": [
       "0.6666666666666666"
      ]
     },
     "metadata": {},
     "output_type": "display_data"
    }
   ],
   "source": [
    "from sklearn.metrics import rand_score\n",
    "\n",
    "labels_true = [0, 0, 0, 1, 1, 1]\n",
    "labels_pred = [0, 0, 1, 1, 2, 2]\n",
    "\n",
    "display(rand_score(labels_true, labels_pred))\n",
    "\n",
    "labels_pred = [1, 1, 0, 0, 3, 3]\n",
    "\n",
    "display(rand_score(labels_true, labels_pred))\n"
   ]
  },
  {
   "cell_type": "markdown",
   "metadata": {},
   "source": [
    "## adjusted_rand_score"
   ]
  },
  {
   "cell_type": "code",
   "execution_count": 3,
   "metadata": {},
   "outputs": [
    {
     "data": {
      "text/plain": [
       "0.24242424242424243"
      ]
     },
     "metadata": {},
     "output_type": "display_data"
    },
    {
     "data": {
      "text/plain": [
       "0.24242424242424243"
      ]
     },
     "metadata": {},
     "output_type": "display_data"
    }
   ],
   "source": [
    "from sklearn.metrics import adjusted_rand_score\n",
    "\n",
    "labels_true = [0, 0, 0, 1, 1, 1]\n",
    "labels_pred = [0, 0, 1, 1, 2, 2]\n",
    "\n",
    "display(adjusted_rand_score(labels_true, labels_pred))\n",
    "\n",
    "labels_pred = [1, 1, 0, 0, 3, 3]\n",
    "\n",
    "display(adjusted_rand_score(labels_true, labels_pred))"
   ]
  },
  {
   "cell_type": "code",
   "execution_count": null,
   "metadata": {},
   "outputs": [],
   "source": []
  },
  {
   "cell_type": "markdown",
   "metadata": {},
   "source": [
    "## mutual information\n",
    "\n",
    "下面介紹另一個指標，我們沿用上面的定義假設全部的集合是 $S$ 有兩個 分群分別是 $X$ 跟 $Y$，假設 $n_{ij} := \\# X_i \\cap Y_j$\n",
    "\n",
    "| X\\Y | $Y_1 \\quad Y_2 \\quad \\cdots \\quad Y_q$ | sum |\n",
    "| :----:| :----: | :----: |\n",
    "| $X_1$ | $n_{11} \\quad n_{12} \\quad \\cdots \\quad n_{1q}$ | $a_1$ |\n",
    "| $X_2$ | $n_{21} \\quad n_{22} \\quad \\cdots \\quad n_{2q}$ | $a_2$ |\n",
    "| $\\vdots$ | $\\vdots \\quad \\vdots \\qquad \\ddots \\quad \\vdots$ | $\\vdots$ |\n",
    "| $X_p$ | $n_{p1} \\quad n_{p2} \\quad \\cdots \\quad n_{pq}$ | $a_p$ |\n",
    "| sum | $b_1 \\quad b_2 \\quad \\cdots \\quad b_q$ |  |\n",
    "\n",
    "再來要引用 entropy 的概念，中文叫 熵。\n",
    "\n",
    "$$\n",
    "H(X) = - \\sum_{i=1}^p \\frac{\\# X_i}{n} \\log( \\frac{\\# X_i}{n} )\n",
    "$$\n",
    "\n",
    "$$\n",
    "H(Y) = - \\sum_{j=1}^q \\frac{\\# Y_j}{n} \\log( \\frac{\\# Y_j}{n} )\n",
    "$$\n",
    "\n",
    "然後我們就能定義 MI\n",
    "\n",
    "$$\n",
    "MI(X,Y) = \\sum_{i=1}^p \\sum_{j=1}^q \\frac{\\# X_i \\cap Y_j}{n} \\log( \\frac{N \\# X_i \\cap Y_j}{\\# X_i \\cdot \\# Y_j} )\n",
    "$$\n",
    "\n",
    "再來要定義 normalized mutual information\n",
    "\n",
    "$$\n",
    "NMI(X,Y) = \\frac{MI(X,Y)}{mean (H(X), H(Y))}\n",
    "$$\n",
    "\n",
    "如果有跟上看到這邊也會發現出了什麼問題，所以有提出adjusted mutual information\n",
    "\n",
    "$$\n",
    "AMI(X,Y) = \\frac{MI - E[MI]}{mean(H(X), H(V)) - E[MI]}\n",
    "$$\n",
    "\n",
    "\n",
    "\n"
   ]
  },
  {
   "cell_type": "code",
   "execution_count": 57,
   "metadata": {},
   "outputs": [
    {
     "name": "stdout",
     "output_type": "stream",
     "text": [
      "MI:  0.4620981203732969\n",
      "NMI:  0.5158037429793889\n",
      "AMI:  0.2987924581708901\n"
     ]
    }
   ],
   "source": [
    "from sklearn.metrics import mutual_info_score, normalized_mutual_info_score, adjusted_mutual_info_score\n",
    "\n",
    "labels_true = [0, 0, 0, 1, 1, 1]\n",
    "labels_pred = [0, 0, 1, 1, 2, 2]\n",
    "\n",
    "print('MI: ', mutual_info_score(labels_true, labels_pred))\n",
    "print('NMI: ', normalized_mutual_info_score(labels_true, labels_pred))\n",
    "print('AMI: ', adjusted_mutual_info_score(labels_true, labels_pred))\n"
   ]
  },
  {
   "cell_type": "markdown",
   "metadata": {},
   "source": [
    "更多的指標可以[參考](https://scikit-learn.org/stable/modules/clustering.html#clustering-performance-evaluation)\n"
   ]
  },
  {
   "cell_type": "code",
   "execution_count": null,
   "metadata": {},
   "outputs": [],
   "source": []
  },
  {
   "cell_type": "code",
   "execution_count": null,
   "metadata": {},
   "outputs": [],
   "source": []
  },
  {
   "cell_type": "code",
   "execution_count": null,
   "metadata": {},
   "outputs": [],
   "source": []
  }
 ],
 "metadata": {
  "kernelspec": {
   "display_name": "Python 3.8.8 ('toby')",
   "language": "python",
   "name": "python3"
  },
  "language_info": {
   "codemirror_mode": {
    "name": "ipython",
    "version": 3
   },
   "file_extension": ".py",
   "mimetype": "text/x-python",
   "name": "python",
   "nbconvert_exporter": "python",
   "pygments_lexer": "ipython3",
   "version": "3.8.8"
  },
  "orig_nbformat": 4,
  "vscode": {
   "interpreter": {
    "hash": "9f507bc0c6a586295e3338d11ec3fe19c4f242dbc5a06bb50ca7be29aa175c9f"
   }
  }
 },
 "nbformat": 4,
 "nbformat_minor": 2
}
