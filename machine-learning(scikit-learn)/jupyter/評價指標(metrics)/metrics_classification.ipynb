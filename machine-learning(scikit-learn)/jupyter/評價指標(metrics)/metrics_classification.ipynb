{
 "cells": [
  {
   "cell_type": "code",
   "execution_count": null,
   "metadata": {},
   "outputs": [],
   "source": []
  },
  {
   "cell_type": "markdown",
   "metadata": {},
   "source": [
    "接下來會介紹常用來處理分類問題的指標\n",
    "\n",
    "# Accuracy Score 準確度\n",
    "\n",
    "不免俗的要來數學阿宅的公式\n",
    "$$\n",
    "accuracy(y,\\hat{y}) = \\frac{1}{n} \\sum_{i=1}^n 1(y_i = \\hat{y_i})\n",
    "$$\n",
    "其中的 $1( \\cdot )$ 是 indicator function。 <br>\n",
    "\n",
    "下面進入實戰環節。\n"
   ]
  },
  {
   "cell_type": "code",
   "execution_count": 1,
   "metadata": {},
   "outputs": [
    {
     "data": {
      "text/plain": [
       "0.5"
      ]
     },
     "metadata": {},
     "output_type": "display_data"
    },
    {
     "data": {
      "text/plain": [
       "2"
      ]
     },
     "execution_count": 1,
     "metadata": {},
     "output_type": "execute_result"
    }
   ],
   "source": [
    "from sklearn.metrics import accuracy_score\n",
    "y_pred = [0, 2, 1, 3]\n",
    "y_true = [0, 1, 2, 3]\n",
    "display(accuracy_score(y_true, y_pred))\n",
    "\n",
    "accuracy_score(y_true, y_pred, normalize=False)"
   ]
  },
  {
   "cell_type": "markdown",
   "metadata": {},
   "source": [
    "# Top-k accuracy score 前 k 高準確度\n",
    "\n",
    "正確的答案，只要在你預測的前 k 高的答案裡面就算你對，可以想成給你猜 k 次，只要猜對一次就算你答對。 <br>\n",
    "\n",
    "為了滿足數學阿宅的快樂，我們來定新的符號 $\\hat{y}_{i,j}$ 是 預測 第 $i$ 個樣本(sample)的 第 $j$ 高分數的預測，特別的來說 $\\hat{y}_{i,1} = \\hat{y}_i$，\n",
    "下面我們就可以給公式。\n",
    "$$\n",
    "top-k \\quad accuracy(y, \\hat{y}) = \\frac{1}{n} \\sum_{i=1}^n \\sum_{j=1}^k 1(y_i = \\hat{y}_{i,j})\n",
    "$$\n",
    "\n",
    "下面進入實戰。\n",
    "\n"
   ]
  },
  {
   "cell_type": "code",
   "execution_count": 3,
   "metadata": {},
   "outputs": [
    {
     "data": {
      "text/plain": [
       "0.75"
      ]
     },
     "metadata": {},
     "output_type": "display_data"
    },
    {
     "data": {
      "text/plain": [
       "3"
      ]
     },
     "execution_count": 3,
     "metadata": {},
     "output_type": "execute_result"
    }
   ],
   "source": [
    "import numpy as np\n",
    "from sklearn.metrics import top_k_accuracy_score\n",
    "y_true  = np.array([0, 1, 2, 2])\n",
    "y_score = np.array([[0.5, 0.2, 0.2],\n",
    "                    [0.3, 0.4, 0.2],\n",
    "                    [0.2, 0.4, 0.3],\n",
    "                    [0.7, 0.2, 0.1]])\n",
    "display(top_k_accuracy_score(y_true, y_score, k=2))\n",
    "\n",
    "top_k_accuracy_score(y_true, y_score, k=2, normalize=False)\n"
   ]
  },
  {
   "cell_type": "markdown",
   "metadata": {},
   "source": [
    "# Balanced accuracy score 平衡的準確度\n",
    "\n",
    "我們前面談的都是在資料如果很平衡的情況下，那如果資料很不平衡的情況下，下面舉個例子。\n",
    "\n",
    "\n"
   ]
  },
  {
   "cell_type": "code",
   "execution_count": null,
   "metadata": {},
   "outputs": [],
   "source": []
  },
  {
   "cell_type": "code",
   "execution_count": null,
   "metadata": {},
   "outputs": [],
   "source": []
  },
  {
   "cell_type": "code",
   "execution_count": null,
   "metadata": {},
   "outputs": [],
   "source": []
  },
  {
   "cell_type": "code",
   "execution_count": null,
   "metadata": {},
   "outputs": [],
   "source": []
  }
 ],
 "metadata": {
  "kernelspec": {
   "display_name": "Python 3.8.8 ('toby')",
   "language": "python",
   "name": "python3"
  },
  "language_info": {
   "codemirror_mode": {
    "name": "ipython",
    "version": 3
   },
   "file_extension": ".py",
   "mimetype": "text/x-python",
   "name": "python",
   "nbconvert_exporter": "python",
   "pygments_lexer": "ipython3",
   "version": "3.8.8"
  },
  "orig_nbformat": 4,
  "vscode": {
   "interpreter": {
    "hash": "9f507bc0c6a586295e3338d11ec3fe19c4f242dbc5a06bb50ca7be29aa175c9f"
   }
  }
 },
 "nbformat": 4,
 "nbformat_minor": 2
}
