{
 "cells": [
  {
   "cell_type": "markdown",
   "metadata": {},
   "source": [
    "# Online Other Dataset\n",
    "\n",
    "現在網路這麼發達，有很多公開的資料，下面一一介紹。\n",
    "\n",
    "## Open Dataset 集散地\n",
    "\n",
    "### [Kaggle](https://www.kaggle.com/datasets)\n",
    "\n",
    "Kaggle 世界最大的資料科學社群之一，在 Kaggle 上有各種資料分析的比賽可以參加，所以可以在上面拿到許多資料。\n",
    "\n",
    "### [Google dataset search](https://datasetsearch.research.google.com/)\n",
    "\n",
    "Google 提供的資料，可以幫助研究人員查找免費提供的在線數據。\n",
    "\n",
    "### [OpenML](https://www.openml.org/search?type=data&sort=runs&status=active)\n",
    "\n",
    "一個線上的機器學習平台，裡面有超過 21.000 個數據集的數據。\n",
    "\n",
    "### [Paper with codes](https://paperswithcode.com/datasets)\n",
    "\n",
    "目前超過 6700 個用於數據科學和機器學習的數據集。\n",
    "\n",
    "### [UC Irvine](https://archive-beta.ics.uci.edu/)，[old](https://archive.ics.uci.edu/ml/index.php)\n",
    "\n",
    "加利福尼亚大學爾灣分校收集的數據。\n",
    "\n",
    "### [Datahub](https://datahub.io/search)\n",
    "\n",
    "從金融市場數據、宏觀經濟數據和人口增長到加密貨幣價格的數千個機器學習數據集的集合。\n",
    "\n",
    "### [wiki](https://en.wikipedia.org/wiki/List_of_datasets_for_machine-learning_research)\n",
    "\n",
    "危機百科(大家在用wiki的時候都要有危機意識)，某些人蒐集的數據。\n",
    "\n",
    "\n",
    "## Public Government Datasets 政府公開的數據\n",
    "\n",
    "### [data.gov](https://catalog.data.gov/dataset)\n",
    "\n",
    "美國政府的開放數據網站，有醫療保健、氣候、教育等各個行業對其進行過濾。\n",
    "\n",
    "### [EU Open Dataset](https://data.europa.eu/data/datasets?locale=en)\n",
    "\n",
    "歐盟機構發布的公共數據包含經濟、農業、教育、就業、氣候、金融、科學等相關的數據。\n",
    "\n",
    "### [World Bank](https://data.worldbank.org/)\n",
    "\n",
    "世界銀行的開放數據包含有關人口統計數據、宏觀經濟數據和關鍵發展指標的數據。\n",
    "\n",
    "### [US Healthcare Data](https://researchguides.dartmouth.edu/c.php?g=517073&p=6289098)\n",
    "\n",
    "美國醫療保健數據、衛生保健和公共衛生的統計數據和數據集。\n",
    "\n",
    "### [台灣政府資料開放平台](https://data.gov.tw/)\n",
    "\n",
    "### [開放數據入口](https://www.datastation.org.tw/opendata)\n",
    "\n",
    "由資訊工業策進會維護的國內外開放數據入口。\n"
   ]
  },
  {
   "cell_type": "markdown",
   "metadata": {},
   "source": []
  }
 ],
 "metadata": {
  "kernelspec": {
   "display_name": "Python 3.8.8 ('toby')",
   "language": "python",
   "name": "python3"
  },
  "language_info": {
   "name": "python",
   "version": "3.8.8"
  },
  "orig_nbformat": 4,
  "vscode": {
   "interpreter": {
    "hash": "9f507bc0c6a586295e3338d11ec3fe19c4f242dbc5a06bb50ca7be29aa175c9f"
   }
  }
 },
 "nbformat": 4,
 "nbformat_minor": 2
}
