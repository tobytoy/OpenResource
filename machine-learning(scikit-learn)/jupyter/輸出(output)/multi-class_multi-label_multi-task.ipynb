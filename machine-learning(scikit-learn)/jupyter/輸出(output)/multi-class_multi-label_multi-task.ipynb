{
 "cells": [
  {
   "cell_type": "markdown",
   "metadata": {},
   "source": []
  },
  {
   "cell_type": "markdown",
   "metadata": {},
   "source": [
    "# multi-class and multi-label\n",
    "\n",
    "我們先理解一下什麼是多類別(multi-class)，\n",
    "假設我們的預測不是 \"對\" 跟 \"錯\" 兩類，\n",
    "例如我們是預測是不是 \"貓貓\"，\"狗狗\"，\"老鼠\"。 <br>\n",
    "為什麼我們會要討論這種問題，因為有些演算法只有支持二分類，例如二元邏輯回歸，下面我們來看看。 <br>\n",
    "\n",
    "一般的 logistic function\n",
    "$$\n",
    "f(x) = \\frac{e^x}{e^x + 1} = \\frac{1}{1+e^{-x}}\n",
    "$$\n",
    "\n"
   ]
  },
  {
   "cell_type": "code",
   "execution_count": 5,
   "metadata": {},
   "outputs": [
    {
     "data": {
      "text/plain": [
       "<AxesSubplot:xlabel='balance', ylabel='default'>"
      ]
     },
     "execution_count": 5,
     "metadata": {},
     "output_type": "execute_result"
    },
    {
     "data": {
      "image/png": "[encoded data removed]",
      "text/plain": [
       "<Figure size 720x720 with 1 Axes>"
      ]
     },
     "metadata": {
      "needs_background": "light"
     },
     "output_type": "display_data"
    }
   ],
   "source": [
    "\n",
    "import seaborn as sns\n",
    "import pandas as pd\n",
    "import matplotlib.pyplot as plt\n",
    "%matplotlib inline\n",
    "# 設定圖片大小\n",
    "plt.rcParams['figure.figsize'] = [10, 10]\n",
    "\n",
    "url = \"https://raw.githubusercontent.com/Statology/Python-Guides/main/default.csv\"\n",
    "data = pd.read_csv(url)\n",
    "\n",
    "X = data['balance']\n",
    "y = data['default']\n",
    "\n",
    "\n",
    "# 畫 logistic regression 曲線\n",
    "sns.regplot(x=X, y=y, data=data, logistic=True, ci=None)\n",
    "\n"
   ]
  },
  {
   "cell_type": "code",
   "execution_count": null,
   "metadata": {},
   "outputs": [],
   "source": []
  },
  {
   "cell_type": "markdown",
   "metadata": {},
   "source": [
    "常用來處理的方法有\n",
    "* One-Vs-The-Rest\n",
    "* One-VS-One\n",
    "\n",
    "\n",
    "我們一樣用 \"貓貓\"，\"狗狗\"，\"老鼠\" 來舉例。\n",
    "## One-Vs-The-Rest\n",
    "我們要準備三個 \"二分類器\"，\n",
    "* 分類器 1 : \"貓貓\" vs \"狗狗，老鼠\" ， 用來判斷是不是貓貓。\n",
    "* 分類器 2 : \"狗狗\" vs \"貓貓，老鼠\" ， 用來判斷是不是狗狗。\n",
    "* 分類器 3 : \"老鼠\" vs \"貓貓，狗狗\" ， 用來判斷是不是老鼠。\n",
    "\n",
    "如果有 $n$ 的類別，我們只需要 $n$ 個分類器，就可以用支援多類別的分類，優點是速度快，可解釋性也是強(他很直覺)，所以他是常用的默認選擇，下面來看看實作。 "
   ]
  },
  {
   "cell_type": "code",
   "execution_count": 12,
   "metadata": {},
   "outputs": [
    {
     "name": "stderr",
     "output_type": "stream",
     "text": [
      "C:\\Users\\tobywang\\Anaconda3\\envs\\toby\\lib\\site-packages\\sklearn\\svm\\_base.py:1206: ConvergenceWarning: Liblinear failed to converge, increase the number of iterations.\n",
      "  warnings.warn(\n",
      "C:\\Users\\tobywang\\Anaconda3\\envs\\toby\\lib\\site-packages\\sklearn\\svm\\_base.py:1206: ConvergenceWarning: Liblinear failed to converge, increase the number of iterations.\n",
      "  warnings.warn(\n"
     ]
    },
    {
     "data": {
      "text/plain": [
       "array([0, 0, 0, 0, 0, 0, 0, 0, 0, 0, 0, 0, 0, 0, 0, 0, 0, 0, 0, 0, 0, 0,\n",
       "       0, 0, 0, 0, 0, 0, 0, 0, 0, 0, 0, 0, 0, 0, 0, 0, 0, 0, 0, 0, 0, 0,\n",
       "       0, 0, 0, 0, 0, 0, 1, 1, 1, 1, 1, 1, 1, 1, 1, 1, 1, 1, 1, 1, 1, 1,\n",
       "       1, 1, 1, 1, 2, 1, 1, 1, 1, 1, 1, 1, 1, 1, 1, 1, 1, 2, 2, 1, 1, 1,\n",
       "       1, 1, 1, 1, 1, 1, 1, 1, 1, 1, 1, 1, 2, 2, 2, 2, 2, 2, 2, 2, 2, 2,\n",
       "       2, 2, 2, 2, 2, 2, 2, 2, 2, 2, 2, 2, 2, 2, 2, 2, 2, 2, 2, 1, 2, 2,\n",
       "       2, 1, 2, 2, 2, 2, 2, 2, 2, 2, 2, 2, 2, 2, 2, 2, 2, 2])"
      ]
     },
     "execution_count": 12,
     "metadata": {},
     "output_type": "execute_result"
    }
   ],
   "source": [
    "from sklearn import datasets\n",
    "from sklearn.multiclass import OneVsRestClassifier\n",
    "from sklearn.svm import LinearSVC\n",
    "\n",
    "X, y = datasets.load_iris(return_X_y=True)\n",
    "\n",
    "classifier = LinearSVC(random_state=87)\n",
    "classifier_ovr = OneVsRestClassifier(classifier).fit(X, y)\n",
    "classifier_ovr.predict(X)\n"
   ]
  },
  {
   "cell_type": "code",
   "execution_count": null,
   "metadata": {},
   "outputs": [],
   "source": [
    "# 雖然他本身就支援多類別，以後碰到不支援多類別的演算法可以試試 One-Vs-The-Rest 這個方法\n",
    "\n",
    "classifier.fit(X, y).predict(X)\n"
   ]
  },
  {
   "cell_type": "markdown",
   "metadata": {},
   "source": [
    "另外一提，OneVsRestClassifier 支援 multi label 的任務，之後會提什麼是多標籤(multi label)。\n"
   ]
  },
  {
   "cell_type": "markdown",
   "metadata": {},
   "source": [
    "## One-Vs-One\n",
    "另一個很自然的想法就根據每一對類別建立一個分類器，下面一樣用 \"貓貓\"，\"狗狗\"，\"老鼠\" 來舉例。\n",
    "\n",
    "* 分類器 1 : \"貓貓\" vs \"狗狗\"。\n",
    "* 分類器 2 : \"貓貓\" vs \"老鼠\"。\n",
    "* 分類器 3 : \"狗狗\" vs \"老鼠\"。\n",
    "\n",
    "下面來個可能的結果，第一分類器說是 \"貓貓\"，第二分類器說是 \"貓貓\"，第三分類器說是 \"狗狗\"，我們可以用投票的方式決定最後輸出結果，這個例子就是 \"貓貓\" 勝利，\n",
    "如果有票數相同，我們就用信心高的當輸出結果。 <br>\n",
    "如果我們有 $n$ 類，我們就要準備 $n(n-1)/2$ 個分類器，他的速度是比 One-Vs-The-Rest 慢的，但是他的優點是複雜度比較高。\n",
    "\n",
    "\n"
   ]
  },
  {
   "cell_type": "code",
   "execution_count": null,
   "metadata": {},
   "outputs": [],
   "source": [
    "from sklearn import datasets\n",
    "from sklearn.multiclass import OneVsOneClassifier\n",
    "from sklearn.svm import LinearSVC\n",
    "\n",
    "X, y = datasets.load_iris(return_X_y=True)\n",
    "\n",
    "classifier = LinearSVC(random_state=87)\n",
    "\n",
    "classifier_ovo = OneVsOneClassifier(classifier).fit(X, y)\n",
    "classifier_ovr.predict(X)\n",
    "\n"
   ]
  },
  {
   "cell_type": "markdown",
   "metadata": {},
   "source": [
    "\n",
    "下面討論一下多標籤(multi-label)，為什麼會有這個問題，假設有三種病 \"不乖\"，\"懶惰\"，\"憂鬱\"。 <br>\n",
    "在診斷上每個病人不一定只歸類到一種病，有可能不乖乖又懶惰還很憂鬱。 <br>\n",
    "有一些演算法是不支持多標籤(multi-label)的我們可以利用 MultiOutputClassifier 這個外殼來支援多標籤的分類器，\n",
    "他的原理是對每個類別單獨建構一個分類器，以上面的例子。\n",
    "\n",
    "* 分類器 1 : \"不乖\"\n",
    "* 分類器 2 : \"懶惰\"\n",
    "* 分類器 3 : \"憂鬱\"\n",
    "\n",
    "所以有多少類別就需要多少分類器，下面進入實戰。\n"
   ]
  },
  {
   "cell_type": "code",
   "execution_count": 15,
   "metadata": {},
   "outputs": [
    {
     "data": {
      "text/plain": [
       "array([[2, 2, 0],\n",
       "       [1, 2, 1],\n",
       "       [2, 1, 0],\n",
       "       [0, 0, 2],\n",
       "       [0, 2, 1],\n",
       "       [0, 0, 2],\n",
       "       [1, 1, 0],\n",
       "       [1, 1, 1],\n",
       "       [0, 0, 2],\n",
       "       [2, 0, 0]])"
      ]
     },
     "execution_count": 15,
     "metadata": {},
     "output_type": "execute_result"
    }
   ],
   "source": [
    "from sklearn.datasets import make_classification\n",
    "from sklearn.multioutput import MultiOutputClassifier\n",
    "from sklearn.ensemble import RandomForestClassifier\n",
    "from sklearn.utils import shuffle\n",
    "import numpy as np\n",
    "\n",
    "X, y1 = make_classification(n_samples=10, n_features=100, n_informative=30, n_classes=3, random_state=1)\n",
    "y2 = shuffle(y1, random_state=1)\n",
    "y3 = shuffle(y1, random_state=2)\n",
    "\n",
    "# 串起來\n",
    "Y = np.vstack((y1, y2, y3)).T\n",
    "\n",
    "Y\n",
    "\n"
   ]
  },
  {
   "cell_type": "code",
   "execution_count": 17,
   "metadata": {},
   "outputs": [
    {
     "data": {
      "text/plain": [
       "array([[2, 2, 0],\n",
       "       [1, 2, 1],\n",
       "       [2, 1, 0],\n",
       "       [0, 0, 2],\n",
       "       [0, 2, 1],\n",
       "       [0, 0, 2],\n",
       "       [1, 1, 0],\n",
       "       [1, 1, 1],\n",
       "       [0, 0, 2],\n",
       "       [2, 0, 0]])"
      ]
     },
     "execution_count": 17,
     "metadata": {},
     "output_type": "execute_result"
    }
   ],
   "source": [
    "\n",
    "n_samples, n_features = X.shape # 10,100\n",
    "n_outputs = Y.shape[1] # 3\n",
    "n_classes = 3\n",
    "\n",
    "forest = RandomForestClassifier(random_state=1)\n",
    "forest_multi_label = MultiOutputClassifier(forest)\n",
    "forest_multi_label.fit(X, Y).predict(X)\n"
   ]
  },
  {
   "cell_type": "markdown",
   "metadata": {},
   "source": [
    "下面看多標籤的回歸，我們可以用 MultiOutputRegressor 當殼，他也支援所有的回歸器。"
   ]
  },
  {
   "cell_type": "code",
   "execution_count": 18,
   "metadata": {},
   "outputs": [
    {
     "data": {
      "text/plain": [
       "array([[-154.75474165, -147.03498585,  -50.03812219],\n",
       "       [   7.12165031,    5.12914884,  -81.46081961],\n",
       "       [-187.8948621 , -100.44373091,   13.88978285],\n",
       "       [-141.62745778,   95.02891072, -191.48204257],\n",
       "       [  97.03260883,  165.34867495,  139.52003279],\n",
       "       [ 123.92529176,   21.25719016,   -7.84253   ],\n",
       "       [-122.25193977,  -85.16443186, -107.12274212],\n",
       "       [ -30.170388  ,  -94.80956739,   12.16979946],\n",
       "       [ 140.72667194,  176.50941682,  -17.50447799],\n",
       "       [ 149.37967282,  -81.15699552,   -5.72850319]])"
      ]
     },
     "execution_count": 18,
     "metadata": {},
     "output_type": "execute_result"
    }
   ],
   "source": [
    "from sklearn.datasets import make_regression\n",
    "from sklearn.multioutput import MultiOutputRegressor\n",
    "from sklearn.ensemble import GradientBoostingRegressor\n",
    "\n",
    "X, y = make_regression(n_samples=10, n_targets=3, random_state=1)\n",
    "\n",
    "regressor = GradientBoostingRegressor(random_state=87)\n",
    "\n",
    "regressor_multi_label = MultiOutputRegressor(regressor)\n",
    "\n",
    "regressor_multi_label.fit(X, y).predict(X)\n"
   ]
  },
  {
   "cell_type": "markdown",
   "metadata": {},
   "source": [
    "## Multi-task\n",
    "也有人稱為 多輸出 multi-output，下面給一下這種任務的定義，有多個預測輸出，但是他們選用相同的特徵(features)，那麼這種任務就是多任務。 <br>\n",
    "\n",
    "這種要求在 Deep learning 也是很常見的任務類型，例如看一個人的照片，預測他的性別、年齡、人種、心情等等。 <br>\n",
    "\n",
    "\n",
    "多輸出的回歸與分類，很自然的你可以想我可以對於每個目標都做回歸與分類，\n",
    "例如假設有一張圖片，我們要判斷裡面的人他的性別、人種，\n",
    "那我們就對性別建一個分類模型，對人種建立一個分類模型，我們就很自然的完成多輸出的任務。\n",
    "\n",
    "\n",
    "### other case\n",
    "\n",
    "這邊多提一下目前大家認為的深度學習與機器學習的差別。\n",
    "\n",
    "input -> features -> model -> output\n",
    "\n",
    "\n",
    "\n",
    "\n",
    "下面就不實戰了，因為你也可以用 MultiOutputRegressor 與 MultiOutputClassifier 當殼去簡單的實作出來，\n",
    "但是下面再提一下多標籤與多輸出的差別。\n",
    "\n",
    "- 在一個池子裡選 \n",
    "- 在不同的池子裡選\n",
    "\n",
    "\n",
    "\n"
   ]
  },
  {
   "cell_type": "code",
   "execution_count": null,
   "metadata": {},
   "outputs": [],
   "source": []
  }
 ],
 "metadata": {
  "kernelspec": {
   "display_name": "Python 3.8.8 ('toby')",
   "language": "python",
   "name": "python3"
  },
  "language_info": {
   "codemirror_mode": {
    "name": "ipython",
    "version": 3
   },
   "file_extension": ".py",
   "mimetype": "text/x-python",
   "name": "python",
   "nbconvert_exporter": "python",
   "pygments_lexer": "ipython3",
   "version": "3.8.8"
  },
  "orig_nbformat": 4,
  "vscode": {
   "interpreter": {
    "hash": "9f507bc0c6a586295e3338d11ec3fe19c4f242dbc5a06bb50ca7be29aa175c9f"
   }
  }
 },
 "nbformat": 4,
 "nbformat_minor": 2
}
