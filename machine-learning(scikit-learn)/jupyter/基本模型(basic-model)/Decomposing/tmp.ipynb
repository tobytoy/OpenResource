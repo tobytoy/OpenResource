{
 "cells": [
  {
   "cell_type": "code",
   "execution_count": null,
   "metadata": {},
   "outputs": [],
   "source": []
  },
  {
   "cell_type": "code",
   "execution_count": null,
   "metadata": {},
   "outputs": [],
   "source": []
  },
  {
   "cell_type": "code",
   "execution_count": null,
   "metadata": {},
   "outputs": [],
   "source": [
    "https://leemeng.tw/essence-of-principal-component-analysis.html"
   ]
  },
  {
   "cell_type": "code",
   "execution_count": null,
   "metadata": {},
   "outputs": [],
   "source": [
    "https://www.youtube.com/watch?v=FgakZw6K1QQ\n",
    "\n",
    "https://ccjou.wordpress.com/2009/06/10/%e9%80%9a%e9%81%8e%e6%8e%a8%e5%b0%8e%e5%81%bd%e9%80%86%e7%9f%a9%e9%99%a3%e8%aa%8d%e8%ad%98%e7%b7%9a%e6%80%a7%e4%bb%a3%e6%95%b8%e7%9a%84%e6%b7%b1%e5%b1%a4%e7%b5%90%e6%a7%8b/\n",
    "\n",
    "https://ccjou.wordpress.com/2009/10/28/%e5%be%9e%e7%b7%9a%e6%80%a7%e8%ae%8a%e6%8f%9b%e8%a7%a3%e9%87%8b%e6%9c%80%e5%b0%8f%e5%b9%b3%e6%96%b9%e8%bf%91%e4%bc%bc/\n"
   ]
  },
  {
   "cell_type": "code",
   "execution_count": null,
   "metadata": {},
   "outputs": [],
   "source": []
  }
 ],
 "metadata": {
  "kernelspec": {
   "display_name": "Python 3.8.8 ('toby')",
   "language": "python",
   "name": "python3"
  },
  "language_info": {
   "name": "python",
   "version": "3.8.8"
  },
  "orig_nbformat": 4,
  "vscode": {
   "interpreter": {
    "hash": "9f507bc0c6a586295e3338d11ec3fe19c4f242dbc5a06bb50ca7be29aa175c9f"
   }
  }
 },
 "nbformat": 4,
 "nbformat_minor": 2
}
