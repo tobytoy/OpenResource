{
 "cells": [
  {
   "cell_type": "markdown",
   "metadata": {},
   "source": [
    "# Introduce clustering\n",
    "\n",
    "今天要介紹的分群 (clustering) 是無監督學習 (unsupervised learning)的方法，這種方法實在太好啦，我們來談談他到底好在哪\n",
    "\n",
    "### 先有靶再射箭 : supervised learning\n",
    "\n",
    "上到現在大家對於 supervised learning 的手法應該很了解了，要訓練模型需要 $X$ 與 $y$ ， \n",
    "$y$ 就是我們的靶，我們的目標，你如果有去工作過會發現，很多時候你可以收集到許多資料，\n",
    "例如一堆照片，一堆影片(監視錄影機拍的)，或很多客戶表單資料，或是前人遺留珍貴紀錄檔，\n",
    "但是唯獨缺的就是這些資料沒有意義，沒有目標，連公司主管或老闆其實都不知道要做什麼，\n",
    "會跟你說你就看看這些資料你能分析出什麼，美其名曰\"如果我跟你說要做什麼會限制你的表現，會讓你綁手綁腳\"，\n",
    "所以你要做 supervised learning 首先要面對的是意義與目的，我這邊分享一個我的真實經歷，\n",
    "我某天在工作中老闆說要跟其他公司合作，今天下午去找OOXX談合作內容，我們的目標就是要合作5G大數據(為了保護當事人細節被和諧了)，\n",
    "內容都想好了，你就去跟對方談好細節，\n",
    "我就想說好吧看我能在這裡幫到什麼，然後下午兩方人馬互相乾鄧眼，都以為對方都規劃好，自己是輔助就好，看自己會什麼就提供什麼幫助就好，\n",
    "原來兩方老闆都認為5G大數據很紅，未來發展淺力無限決定要做，好了兩方老闆都完事了，\n",
    "對於產品、行銷、技術等等細節完全沒有，都以為對方會搞定，更有趣的是連資金都沒到位。\n",
    "\n",
    "### 先射箭再畫靶 : unsupervised learning\n",
    "\n",
    "如果今天有個工具是不需要你先給目標，他可以自己幫你預測，假設老闆跟你說，我們今年想推一新產品，或是有新的行銷企劃，\n",
    "來這是之前顧客的資料，你來挑一些顧客來試試水溫，蛙阿你這時還不跳起來，難到要把公司之前的資料都看過再把人分類，\n",
    "如果你還很白目地問老闆那要給誰先來試用看看，去IG、去FB貼文章收集有意願的人嗎，\n",
    "老闆只會說廢物這種事還來問我，要是淺在客戶最近很忙沒看到怎麼辦，\n",
    "這時候如果你先用今天要教的技巧分群 (clustering)，你先把顧客分個 5 群好了，再分別看這 5 群的資料有什麼顯著特性，\n",
    "可以用年紀，收入等刻板印象去帶入，然後跟老闆報告，這次要行銷或要推的新產品，特別適合XX，我挑出了候選名單OOO人，\n",
    "可以先試試水溫，你就可以等著進一步的資料分析。\n",
    "\n"
   ]
  },
  {
   "cell_type": "markdown",
   "metadata": {},
   "source": [
    "下面先來看看不同算法的效果\n",
    "\n",
    "![overview](../../../images/sphx_glr_plot_cluster_comparison_001.png)\n",
    "\n",
    "\n"
   ]
  },
  {
   "cell_type": "markdown",
   "metadata": {},
   "source": [
    "下面看看不同算法的特性\n",
    "\n",
    "| 模型名稱 | 參數 | 擴展性 | 使用場景 |\n",
    "| :---- | :---- | :---- | :---- |\n",
    "| K-Means | 要分幾類 | ``n_samples`` 很大， ``n_clusters`` 中等| 一般性使用 |\n",
    "| Affinity propagation | 单元格 | 123 | |\n"
   ]
  },
  {
   "cell_type": "markdown",
   "metadata": {},
   "source": [
    "# K-means\n",
    "\n",
    "因為 K-means 很泛用，所以我們會先介紹 K-means，\n",
    "\n"
   ]
  },
  {
   "cell_type": "markdown",
   "metadata": {},
   "source": [
    "下面我們實際看看 k-means 實際是如何執行分群的。\n",
    "\n",
    "## steps\n",
    "\n",
    "1. 決定 $k$，要決定要分幾群。 \n",
    "2. 隨機選 $k$ 個點，下面的例子是取兩個點 藍點 跟紅點。\n",
    "3. 把靠近藍點的點歸給藍色那一群，把靠近紅點的點歸給紅色那一群。\n",
    "4. 算新的中心點。\n",
    "5. 重複 3. 跟 4. 直到收斂。\n",
    "\n",
    "\n",
    "![kmeans](../../../images/kmeans.drawio.png)"
   ]
  },
  {
   "cell_type": "code",
   "execution_count": null,
   "metadata": {},
   "outputs": [],
   "source": []
  },
  {
   "cell_type": "code",
   "execution_count": null,
   "metadata": {},
   "outputs": [],
   "source": []
  },
  {
   "cell_type": "code",
   "execution_count": null,
   "metadata": {},
   "outputs": [],
   "source": []
  }
 ],
 "metadata": {
  "kernelspec": {
   "display_name": "Python 3.8.8 ('toby')",
   "language": "python",
   "name": "python3"
  },
  "language_info": {
   "codemirror_mode": {
    "name": "ipython",
    "version": 3
   },
   "file_extension": ".py",
   "mimetype": "text/x-python",
   "name": "python",
   "nbconvert_exporter": "python",
   "pygments_lexer": "ipython3",
   "version": "3.8.8"
  },
  "orig_nbformat": 4,
  "vscode": {
   "interpreter": {
    "hash": "9f507bc0c6a586295e3338d11ec3fe19c4f242dbc5a06bb50ca7be29aa175c9f"
   }
  }
 },
 "nbformat": 4,
 "nbformat_minor": 2
}
