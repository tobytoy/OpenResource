{
 "cells": [
  {
   "cell_type": "code",
   "execution_count": null,
   "metadata": {},
   "outputs": [],
   "source": []
  },
  {
   "cell_type": "code",
   "execution_count": 1,
   "metadata": {},
   "outputs": [
    {
     "data": {
      "text/plain": [
       "['BallTree',\n",
       " 'DistanceMetric',\n",
       " 'KDTree',\n",
       " 'KNeighborsClassifier',\n",
       " 'KNeighborsRegressor',\n",
       " 'KNeighborsTransformer',\n",
       " 'KernelDensity',\n",
       " 'LocalOutlierFactor',\n",
       " 'NearestCentroid',\n",
       " 'NearestNeighbors',\n",
       " 'NeighborhoodComponentsAnalysis',\n",
       " 'RadiusNeighborsClassifier',\n",
       " 'RadiusNeighborsRegressor',\n",
       " 'RadiusNeighborsTransformer',\n",
       " 'VALID_METRICS',\n",
       " 'VALID_METRICS_SPARSE',\n",
       " '__all__',\n",
       " '__builtins__',\n",
       " '__cached__',\n",
       " '__doc__',\n",
       " '__file__',\n",
       " '__loader__',\n",
       " '__name__',\n",
       " '__package__',\n",
       " '__path__',\n",
       " '__spec__',\n",
       " '_ball_tree',\n",
       " '_base',\n",
       " '_classification',\n",
       " '_distance_metric',\n",
       " '_graph',\n",
       " '_kd_tree',\n",
       " '_kde',\n",
       " '_lof',\n",
       " '_nca',\n",
       " '_nearest_centroid',\n",
       " '_partition_nodes',\n",
       " '_regression',\n",
       " '_unsupervised',\n",
       " 'kneighbors_graph',\n",
       " 'radius_neighbors_graph']"
      ]
     },
     "execution_count": 1,
     "metadata": {},
     "output_type": "execute_result"
    }
   ],
   "source": [
    "from sklearn import neighbors\n",
    "\n",
    "\n",
    "dir(neighbors)\n",
    "\n"
   ]
  },
  {
   "cell_type": "markdown",
   "metadata": {},
   "source": [
    "https://scikit-learn.org/stable/modules/neighbors.html\n",
    "\n",
    "https://ithelp.ithome.com.tw/articles/10269826"
   ]
  },
  {
   "cell_type": "code",
   "execution_count": null,
   "metadata": {},
   "outputs": [],
   "source": []
  },
  {
   "cell_type": "code",
   "execution_count": null,
   "metadata": {},
   "outputs": [],
   "source": []
  }
 ],
 "metadata": {
  "kernelspec": {
   "display_name": "Python 3.9.12 ('py39')",
   "language": "python",
   "name": "python3"
  },
  "language_info": {
   "codemirror_mode": {
    "name": "ipython",
    "version": 3
   },
   "file_extension": ".py",
   "mimetype": "text/x-python",
   "name": "python",
   "nbconvert_exporter": "python",
   "pygments_lexer": "ipython3",
   "version": "3.9.12"
  },
  "orig_nbformat": 4,
  "vscode": {
   "interpreter": {
    "hash": "16588fe0bceb188988cfd4fccbde89564770efaa71f24d6b7cc64f697ef5739b"
   }
  }
 },
 "nbformat": 4,
 "nbformat_minor": 2
}
