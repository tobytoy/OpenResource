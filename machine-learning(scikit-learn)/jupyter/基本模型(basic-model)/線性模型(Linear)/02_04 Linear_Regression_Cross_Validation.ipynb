{
 "cells": [
  {
   "cell_type": "code",
   "execution_count": null,
   "metadata": {},
   "outputs": [],
   "source": []
  },
  {
   "cell_type": "markdown",
   "metadata": {},
   "source": [
    "# Cross-Validation\n",
    "\n",
    "這邊要提一下，以下介紹的用法跟 GridSearchCV 一樣，但是這邊介紹直接使用的方法，\n",
    "有更客製化的需求請移駕。 <br>\n",
    "\n",
    "我們先看 leave-one-out Cross-Validation，有關更詳細的Cross-Validation請移駕。"
   ]
  },
  {
   "cell_type": "code",
   "execution_count": 2,
   "metadata": {},
   "outputs": [
    {
     "name": "stdout",
     "output_type": "stream",
     "text": [
      "w 係數： [  10.45038725 -224.93565861  490.77513259  244.23047743  -55.07711743\n",
      "  -63.80868593 -230.26779614   78.85533454  459.55154482   51.0316344 ]\n",
      "w_0 截距： 153.28049940624166\n",
      "Mean squared error: 2835.40\n"
     ]
    }
   ],
   "source": [
    "# Ridge CV\n",
    "from sklearn.datasets import load_diabetes\n",
    "from sklearn.model_selection import train_test_split\n",
    "from sklearn.linear_model import RidgeCV\n",
    "from sklearn.metrics import mean_squared_error\n",
    "\n",
    "X, y = load_diabetes(return_X_y=True)\n",
    "X_train, X_test, y_train, y_test = train_test_split(X, y, test_size=0.2, random_state=87) \n",
    "\n",
    "regression = RidgeCV(alphas=[0.1, 1.0, 2.0, 3.0, 10.0], cv=5)\n",
    "\n",
    "regression.fit(X_train, y_train)\n",
    "y_pred = regression.predict(X_test)\n",
    "\n",
    "\n",
    "print('w 係數：', regression.coef_)\n",
    "print('w_0 截距：', regression.intercept_)\n",
    "print(\"Mean squared error: %.2f\" % mean_squared_error(y_test, y_pred))\n",
    "\n"
   ]
  },
  {
   "cell_type": "code",
   "execution_count": 3,
   "metadata": {},
   "outputs": [
    {
     "name": "stdout",
     "output_type": "stream",
     "text": [
      "Training accuracy:  0.8666666666666667\n",
      "Testing accuracy:  0.8666666666666667\n"
     ]
    }
   ],
   "source": [
    "# Ridge Classification CV\n",
    "from sklearn.datasets import load_iris\n",
    "from sklearn.model_selection import train_test_split\n",
    "from sklearn.linear_model import RidgeClassifierCV\n",
    "from sklearn.preprocessing import LabelBinarizer\n",
    "from sklearn.model_selection import train_test_split\n",
    "\n",
    "\n",
    "X, y = load_iris(return_X_y=True)\n",
    "#y = LabelBinarizer().fit_transform(y)\n",
    "\n",
    "X_train, X_test, y_train, y_test = train_test_split(X, y, test_size=0.2, random_state=87) \n",
    "\n",
    "classifier = RidgeClassifierCV(alphas=[0.1, 1.0, 2.0, 3.0, 10.0], cv=5)\n",
    "classifier.fit(X_train, y_train)\n",
    "\n",
    "# The Score will Return the mean accuracy on the given test data and labels.\n",
    "print('Training accuracy: ', classifier.score(X_train, y_train))\n",
    "print('Testing accuracy: ', classifier.score(X_test, y_test))\n"
   ]
  },
  {
   "cell_type": "code",
   "execution_count": null,
   "metadata": {},
   "outputs": [],
   "source": []
  },
  {
   "cell_type": "code",
   "execution_count": 1,
   "metadata": {},
   "outputs": [
    {
     "name": "stdout",
     "output_type": "stream",
     "text": [
      "w 係數： [   0.         -181.44098627  537.1813375   209.16300741  -38.73795149\n",
      "   -0.         -229.73372399    0.          506.55762896    0.        ]\n",
      "w_0 截距： 153.28164489672588\n",
      "Mean squared error: 2928.64\n"
     ]
    }
   ],
   "source": [
    "# Lasso CV\n",
    "from sklearn.datasets import load_diabetes\n",
    "from sklearn.model_selection import train_test_split\n",
    "from sklearn.linear_model import LassoCV\n",
    "from sklearn.metrics import mean_squared_error\n",
    "\n",
    "X, y = load_diabetes(return_X_y=True)\n",
    "X_train, X_test, y_train, y_test = train_test_split(X, y, test_size=0.2, random_state=87) \n",
    "\n",
    "regression = LassoCV(alphas=[0.1, 1.0, 2.0, 3.0, 10.0], cv=5)\n",
    "\n",
    "regression.fit(X_train, y_train)\n",
    "y_pred = regression.predict(X_test)\n",
    "\n",
    "\n",
    "print('w 係數：', regression.coef_)\n",
    "print('w_0 截距：', regression.intercept_)\n",
    "print(\"Mean squared error: %.2f\" % mean_squared_error(y_test, y_pred))\n"
   ]
  },
  {
   "cell_type": "code",
   "execution_count": null,
   "metadata": {},
   "outputs": [],
   "source": []
  },
  {
   "cell_type": "code",
   "execution_count": 6,
   "metadata": {},
   "outputs": [
    {
     "name": "stdout",
     "output_type": "stream",
     "text": [
      "w 係數： [[   0.         -192.42185781  533.66870888  216.69004044  -50.23983911\n",
      "   -19.53850471 -236.71986476    0.          512.22495343    8.57237899]\n",
      " [   0.          131.5338771   -98.48692344  -12.23382425   75.70668859\n",
      "    49.60017772   41.85166385   -0.          -14.99760369    7.33958332]\n",
      " [  -0.           31.71609646  -51.16202318   89.61543053  -44.10199773\n",
      "    -1.74762899  -97.42160267   -0.           44.52862199   -1.72804783]]\n",
      "w_0 截距： [153.2758319  151.50961102 153.44141271]\n",
      "Mean squared error: 4660.86\n"
     ]
    }
   ],
   "source": [
    "# MultiTaskLassoCV\n",
    "import numpy as np\n",
    "from sklearn.datasets import load_diabetes\n",
    "from sklearn.model_selection import train_test_split\n",
    "from sklearn.linear_model import MultiTaskLassoCV\n",
    "from sklearn.metrics import mean_squared_error\n",
    "from sklearn.utils import shuffle\n",
    "\n",
    "\n",
    "\n",
    "\n",
    "X, y1 = load_diabetes(return_X_y=True)\n",
    "y2 = shuffle(y1, random_state=1)\n",
    "y3 = shuffle(y1, random_state=2)\n",
    "\n",
    "y = np.vstack((y1, y2, y3)).T\n",
    "X_train, X_test, y_train, y_test = train_test_split(X, y, test_size=0.2, random_state=87) \n",
    "\n",
    "regression = MultiTaskLassoCV(alphas=[0.1, 1.0, 2.0, 3.0, 10.0], cv=5)\n",
    "\n",
    "regression.fit(X_train, y_train)\n",
    "y_pred = regression.predict(X_test)\n",
    "\n",
    "\n",
    "print('w 係數：', regression.coef_)\n",
    "print('w_0 截距：', regression.intercept_)\n",
    "print(\"Mean squared error: %.2f\" % mean_squared_error(y_test, y_pred))\n",
    "\n"
   ]
  },
  {
   "cell_type": "code",
   "execution_count": null,
   "metadata": {},
   "outputs": [],
   "source": []
  },
  {
   "cell_type": "code",
   "execution_count": 7,
   "metadata": {},
   "outputs": [
    {
     "name": "stdout",
     "output_type": "stream",
     "text": [
      "w 係數： [[ 11.69709521  -0.20325121  37.9332106   25.23227265  10.05742679\n",
      "    7.63492093 -25.8588858   25.41068962  35.49092446  20.56736076]\n",
      " [  1.25371508   5.40274335  -4.16510184  -0.32451228   5.03241965\n",
      "    5.43299369   1.64389384   0.89227352  -0.30968029   1.74425426]\n",
      " [ -0.61273316   3.5580441    1.10759718   4.65793449  -1.45600068\n",
      "    0.0846052   -5.97781311   2.70267112   3.18730893   1.70292226]]\n",
      "w_0 截距： [152.54825598 151.64012658 153.272735  ]\n",
      "Mean squared error: 5383.04\n"
     ]
    }
   ],
   "source": [
    "# MultiTaskElasticNetCV\n",
    "import numpy as np\n",
    "from sklearn.datasets import load_diabetes\n",
    "from sklearn.model_selection import train_test_split\n",
    "from sklearn.linear_model import MultiTaskElasticNetCV\n",
    "from sklearn.metrics import mean_squared_error\n",
    "from sklearn.utils import shuffle\n",
    "\n",
    "\n",
    "\n",
    "\n",
    "X, y1 = load_diabetes(return_X_y=True)\n",
    "y2 = shuffle(y1, random_state=1)\n",
    "y3 = shuffle(y1, random_state=2)\n",
    "\n",
    "y = np.vstack((y1, y2, y3)).T\n",
    "X_train, X_test, y_train, y_test = train_test_split(X, y, test_size=0.2, random_state=87) \n",
    "\n",
    "regression = MultiTaskElasticNetCV(alphas=[0.1, 1.0, 2.0, 3.0, 10.0], cv=5)\n",
    "\n",
    "regression.fit(X_train, y_train)\n",
    "y_pred = regression.predict(X_test)\n",
    "\n",
    "\n",
    "print('w 係數：', regression.coef_)\n",
    "print('w_0 截距：', regression.intercept_)\n",
    "print(\"Mean squared error: %.2f\" % mean_squared_error(y_test, y_pred))\n"
   ]
  },
  {
   "cell_type": "code",
   "execution_count": null,
   "metadata": {},
   "outputs": [],
   "source": []
  },
  {
   "cell_type": "code",
   "execution_count": null,
   "metadata": {},
   "outputs": [],
   "source": []
  },
  {
   "cell_type": "code",
   "execution_count": null,
   "metadata": {},
   "outputs": [],
   "source": []
  },
  {
   "cell_type": "code",
   "execution_count": null,
   "metadata": {},
   "outputs": [],
   "source": []
  },
  {
   "cell_type": "code",
   "execution_count": null,
   "metadata": {},
   "outputs": [],
   "source": []
  }
 ],
 "metadata": {
  "kernelspec": {
   "display_name": "Python 3.8.8 ('toby')",
   "language": "python",
   "name": "python3"
  },
  "language_info": {
   "codemirror_mode": {
    "name": "ipython",
    "version": 3
   },
   "file_extension": ".py",
   "mimetype": "text/x-python",
   "name": "python",
   "nbconvert_exporter": "python",
   "pygments_lexer": "ipython3",
   "version": "3.8.8"
  },
  "orig_nbformat": 4,
  "vscode": {
   "interpreter": {
    "hash": "9f507bc0c6a586295e3338d11ec3fe19c4f242dbc5a06bb50ca7be29aa175c9f"
   }
  }
 },
 "nbformat": 4,
 "nbformat_minor": 2
}
