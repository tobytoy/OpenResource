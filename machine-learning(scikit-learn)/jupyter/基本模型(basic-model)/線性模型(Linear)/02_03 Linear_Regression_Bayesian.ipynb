{
 "cells": [
  {
   "cell_type": "markdown",
   "metadata": {},
   "source": [
    "# gaussian distribution, normal distribution\n",
    "我們要先來回憶常態分佈 <br>\n",
    "\n",
    "機率密度函數probability density function (pdf)\n",
    "$$\n",
    "f(x) = \\frac{1}{ \\sigma \\sqrt{2 \\pi}} \\exp \\Big ( -\\frac{1}{2} (\\frac{x-\\mu}{\\sigma})^2 \\Big )\n",
    "$$\n",
    "其中的 $\\mu$ 是 mean ， $\\sigma$ 是 standard deviation。 \n"
   ]
  },
  {
   "cell_type": "code",
   "execution_count": null,
   "metadata": {},
   "outputs": [],
   "source": []
  },
  {
   "cell_type": "code",
   "execution_count": null,
   "metadata": {},
   "outputs": [],
   "source": []
  },
  {
   "cell_type": "code",
   "execution_count": null,
   "metadata": {},
   "outputs": [],
   "source": []
  },
  {
   "cell_type": "markdown",
   "metadata": {},
   "source": [
    "https://scikit-learn.org/stable/auto_examples/linear_model/plot_bayesian_ridge_curvefit.html#sphx-glr-auto-examples-linear-model-plot-bayesian-ridge-curvefit-py"
   ]
  },
  {
   "cell_type": "markdown",
   "metadata": {},
   "source": [
    "用 gaussian distribution 再玩一次 poly, lasso,ridge 等等 linear regression\n",
    "\n",
    "前面要介紹 gaussian distribution\n"
   ]
  },
  {
   "cell_type": "code",
   "execution_count": null,
   "metadata": {},
   "outputs": [],
   "source": []
  },
  {
   "cell_type": "code",
   "execution_count": null,
   "metadata": {},
   "outputs": [],
   "source": []
  },
  {
   "cell_type": "code",
   "execution_count": null,
   "metadata": {},
   "outputs": [],
   "source": []
  }
 ],
 "metadata": {
  "language_info": {
   "name": "python"
  },
  "orig_nbformat": 4
 },
 "nbformat": 4,
 "nbformat_minor": 2
}
