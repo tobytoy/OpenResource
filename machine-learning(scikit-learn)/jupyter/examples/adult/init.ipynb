{
 "cells": [
  {
   "cell_type": "code",
   "execution_count": null,
   "metadata": {},
   "outputs": [],
   "source": []
  },
  {
   "cell_type": "code",
   "execution_count": null,
   "metadata": {},
   "outputs": [],
   "source": [
    "data\n",
    "\n",
    "https://archive-beta.ics.uci.edu/ml/datasets/adult\n"
   ]
  },
  {
   "cell_type": "code",
   "execution_count": null,
   "metadata": {},
   "outputs": [],
   "source": [
    "\n",
    "source kaggle\n",
    "\n",
    "https://www.kaggle.com/datasets/uciml/adult-census-income/code\n",
    "\n",
    "detail\n",
    "https://www.kaggle.com/code/tirendazacademy/classification-analysis-with-xgboost\n",
    "https://www.kaggle.com/code/rrrohit/classification-using-svc\n",
    "https://www.kaggle.com/code/mysarahmadbhat/adult-income\n",
    "https://www.kaggle.com/code/aditimulye/adult-income-dataset-from-scratch\n",
    "https://www.kaggle.com/code/lucasar/detection-of-adult-census-income-with-ml-dl\n",
    "https://www.kaggle.com/code/devchauhan1/adult-income-analysis\n",
    "https://www.kaggle.com/code/nathanamar19/adult-income-prediction\n",
    "https://www.kaggle.com/code/jilkothari/prediction-of-income-with-98-accuracy\n",
    "https://www.kaggle.com/code/amidala/explain-your-ml-model-no-more-black-boxes\n",
    "\n"
   ]
  },
  {
   "cell_type": "code",
   "execution_count": null,
   "metadata": {},
   "outputs": [],
   "source": []
  },
  {
   "cell_type": "code",
   "execution_count": null,
   "metadata": {},
   "outputs": [],
   "source": []
  }
 ],
 "metadata": {
  "kernelspec": {
   "display_name": "Python 3.8.8 ('toby')",
   "language": "python",
   "name": "python3"
  },
  "language_info": {
   "name": "python",
   "version": "3.8.8"
  },
  "orig_nbformat": 4,
  "vscode": {
   "interpreter": {
    "hash": "9f507bc0c6a586295e3338d11ec3fe19c4f242dbc5a06bb50ca7be29aa175c9f"
   }
  }
 },
 "nbformat": 4,
 "nbformat_minor": 2
}
