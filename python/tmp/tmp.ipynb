{
 "cells": [
  {
   "cell_type": "code",
   "execution_count": null,
   "metadata": {},
   "outputs": [],
   "source": []
  },
  {
   "cell_type": "markdown",
   "metadata": {},
   "source": [
    "\n",
    "\n",
    "### path 環境變量\n",
    "\n",
    "## 文字處理\n",
    "\n",
    "* 字符集 Big5 utf8 unicode\n",
    "* 文字處理\n",
    "* 取代搜尋...\n",
    "\n",
    "\n",
    "## 語言簡介\n",
    "\n",
    "## python 變量 型別\n",
    "\n",
    "* 類型轉換\n",
    "* \n",
    "\n",
    "## python 的資料結構\n",
    "\n",
    "* list\n",
    "* tuple\n",
    "* dictionary\n",
    "* set\n",
    "\n",
    "## python 邏輯運算\n",
    "\n",
    "* if else\n",
    "* while\n",
    "* for\n",
    "* range\n",
    "* break continue\n",
    "\n",
    "## python 數值運算 numpy\n",
    "\n",
    "* numpy\n",
    "* 切片\n",
    "* 轉換\n",
    "\n",
    "## python 的函數 function map\n",
    "\n",
    "* function\n",
    "* map\n",
    "* 三元運算\n",
    "\n",
    "## pathlib\n",
    "\n",
    "\n",
    "## local global\n",
    "\n",
    "## 好用的 lib\n",
    "\n",
    "## module\n",
    "\n",
    "## 繼承\n",
    "\n",
    "## 裝飾器\n",
    "\n",
    "\n",
    "\n",
    "\n",
    "\n",
    "\n",
    "\n"
   ]
  },
  {
   "cell_type": "code",
   "execution_count": null,
   "metadata": {},
   "outputs": [],
   "source": []
  },
  {
   "cell_type": "code",
   "execution_count": null,
   "metadata": {},
   "outputs": [],
   "source": []
  },
  {
   "cell_type": "code",
   "execution_count": null,
   "metadata": {},
   "outputs": [],
   "source": []
  },
  {
   "cell_type": "code",
   "execution_count": null,
   "metadata": {},
   "outputs": [],
   "source": []
  },
  {
   "cell_type": "code",
   "execution_count": null,
   "metadata": {},
   "outputs": [],
   "source": []
  }
 ],
 "metadata": {
  "language_info": {
   "name": "python"
  },
  "orig_nbformat": 4
 },
 "nbformat": 4,
 "nbformat_minor": 2
}
