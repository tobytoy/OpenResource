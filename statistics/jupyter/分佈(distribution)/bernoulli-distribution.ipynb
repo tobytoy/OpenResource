{
 "cells": [
  {
   "cell_type": "markdown",
   "metadata": {},
   "source": [
    "# Bernoulli Distribution\n",
    "\n",
    "他就像擲一個不公平的硬幣，有機率 $q$ 為正面( 輸出為 1 )，有機率 $1-q$ 為反面( 輸出為 0 )，下面看看他的基本統計量。\n",
    "\n",
    "\n",
    "假設 $X$ 為 Bernoulli Distribution 機率為 $q$。\n",
    "\n",
    "## Probability Density Function 機率密度函數\n",
    "$$P(x) = q^x (1-q)^{(1-x)}$$\n",
    "\n",
    "\n",
    "## Expection 期望值\n",
    "$$E(X) = 1*q + 0*(1-q) = q$$\n",
    "\n",
    "\n",
    "## Variance 方差\n",
    "$$\\begin{aligned}\n",
    "    Var(X) &= (1-q)^2*q + (0-q)^2*(1-q) \\\\\n",
    "           &= q(1-q) \\\\\n",
    "    \\end{aligned}$$ \n",
    "\n",
    "## $\\mu_3(\\mu)$ $3$ 階主動差\n",
    "\n",
    "$$\\begin{aligned}\n",
    "    \\mu_3(\\mu) &= (1-q)^3*q + (0-q)^3*(1-q) \\\\\n",
    "               &= q(1-q)(1-2q) \\\\\n",
    "    \\end{aligned}$$\n",
    "\n",
    "\n",
    "## Skewness 偏態\n",
    "$$\\begin{aligned}\n",
    "    Skew(X) &= \\frac{\\mu_3(\\mu)}{\\sigma^3} \\\\\n",
    "            &= \\frac{1-2q}{\\sqrt{q(1-q)}} \\\\\n",
    "    \\end{aligned}$$\n",
    "\n",
    "\n",
    "## $\\mu_4(\\mu)$ $4$ 階主動差\n",
    "\n",
    "$$\\begin{aligned}\n",
    "    \\mu_4(\\mu) &= (1-q)^4*q + (0-q)^4*(1-q) \\\\\n",
    "               &= q(1-q)(1-3q+3q^2) \\\\\n",
    "    \\end{aligned}$$\n",
    "\n",
    "\n",
    "\n",
    "## Kurtosis 峰度\n",
    "\n",
    "$$\\begin{aligned}\n",
    "    Kurt(X) &= \\frac{\\mu_4(\\mu)}{\\sigma^4} - 3 \\\\\n",
    "               &= \\frac{1-3q+3q^2}{q(1-q)} - 3 \\\\\n",
    "    \\end{aligned}$$\n",
    "\n",
    "\n",
    "\n",
    "\n"
   ]
  },
  {
   "cell_type": "markdown",
   "metadata": {},
   "source": [
    "## python \n",
    "\n",
    "我們用 python 來看看更多，更多[參考](https://docs.scipy.org/doc/scipy/reference/generated/scipy.stats.bernoulli.html#scipy.stats.bernoulli)。\n"
   ]
  },
  {
   "cell_type": "code",
   "execution_count": 18,
   "metadata": {},
   "outputs": [
    {
     "data": {
      "text/plain": [
       "(array(0.3), array(0.21), array(0.87287156), array(-1.23809524))"
      ]
     },
     "execution_count": 18,
     "metadata": {},
     "output_type": "execute_result"
    }
   ],
   "source": [
    "from scipy.stats import bernoulli\n",
    "\n",
    "q = 0.3\n",
    "mean, var, skew, kurt = bernoulli.stats(q, moments='mvsk')\n",
    "mean, var, skew, kurt\n",
    "\n"
   ]
  },
  {
   "cell_type": "code",
   "execution_count": null,
   "metadata": {},
   "outputs": [],
   "source": []
  }
 ],
 "metadata": {
  "kernelspec": {
   "display_name": "Python 3.9.12 ('py39')",
   "language": "python",
   "name": "python3"
  },
  "language_info": {
   "codemirror_mode": {
    "name": "ipython",
    "version": 3
   },
   "file_extension": ".py",
   "mimetype": "text/x-python",
   "name": "python",
   "nbconvert_exporter": "python",
   "pygments_lexer": "ipython3",
   "version": "3.9.12"
  },
  "orig_nbformat": 4,
  "vscode": {
   "interpreter": {
    "hash": "16588fe0bceb188988cfd4fccbde89564770efaa71f24d6b7cc64f697ef5739b"
   }
  }
 },
 "nbformat": 4,
 "nbformat_minor": 2
}
