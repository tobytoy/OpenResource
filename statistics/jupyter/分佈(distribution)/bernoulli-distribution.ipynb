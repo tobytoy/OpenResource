{
 "cells": [
  {
   "cell_type": "markdown",
   "metadata": {},
   "source": [
    "# Bernoulli Distribution\n",
    "\n",
    "他就像擲一個不公平的硬幣，有機率 $q$ 為正面( 輸出為 1 )，有機率 $1-q$ 為反面( 輸出為 0 )，下面看看他的基本統計量。\n",
    "\n",
    "\n",
    "假設 $X(q)$ 為 Bernoulli Distribution 機率為 $q$。\n",
    "\n",
    "$$E(X) = 1*q + 0*(1-q) = q$$\n",
    "\n",
    "$$Var(X) = (1-q)^2*q + (0-q)^2*(1-q)=q(1-q)$$ \n",
    "\n",
    "$$Skew(X) = (1-q)^3*q + (0-q)^3*(1-q)$$\n",
    "\n",
    "$$Kurt(X) = (1-q)^4*q + (0-q)^4*(1-q)$$\n",
    "\n",
    "\n"
   ]
  },
  {
   "cell_type": "code",
   "execution_count": null,
   "metadata": {},
   "outputs": [],
   "source": []
  },
  {
   "cell_type": "code",
   "execution_count": null,
   "metadata": {},
   "outputs": [],
   "source": []
  }
 ],
 "metadata": {
  "kernelspec": {
   "display_name": "Python 3.8.8 ('toby')",
   "language": "python",
   "name": "python3"
  },
  "language_info": {
   "name": "python",
   "version": "3.8.8"
  },
  "orig_nbformat": 4,
  "vscode": {
   "interpreter": {
    "hash": "9f507bc0c6a586295e3338d11ec3fe19c4f242dbc5a06bb50ca7be29aa175c9f"
   }
  }
 },
 "nbformat": 4,
 "nbformat_minor": 2
}
