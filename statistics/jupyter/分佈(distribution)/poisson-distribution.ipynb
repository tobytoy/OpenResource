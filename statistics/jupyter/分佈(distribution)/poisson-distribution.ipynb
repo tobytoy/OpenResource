{
 "cells": [
  {
   "cell_type": "markdown",
   "metadata": {},
   "source": [
    "# Poisson Distribution\n",
    "\n",
    "卜瓦松分布適合於描述單位時間內隨機事件發生的次數的機率分布。\n",
    "\n",
    "\n",
    "假設 $X \\sim Pois(\\lambda)$。\n",
    "\n",
    "\n",
    "## Probability Density Function 機率密度函數\n",
    "$$P(X = k) = \\frac{\\exp(-\\lambda)\\lambda^k}{k!}$$\n",
    "\n",
    "\n",
    "## Cumulative Distribution Function 累積分布函數\n",
    "$$F(X \\leq k) = \\sum_{i=0}^k \\frac{\\exp(-\\lambda)\\lambda^k}{k!}$$\n",
    "\n",
    "\n",
    "## Expection 期望值\n",
    "\n",
    "$$E(X) = \\lambda$$\n",
    "\n",
    "## Variance 方差\n",
    "\n",
    "$$Var(X) = \\lambda$$\n",
    "\n"
   ]
  },
  {
   "cell_type": "markdown",
   "metadata": {},
   "source": [
    "\n",
    "## Skewness 偏態\n",
    "$$Skew(X) = \\frac{\\mu_3(\\mu)}{\\sigma^3}$$\n",
    "\n",
    "## Kurtosis 峰度\n",
    "$$Kurt(X) = \\frac{\\mu_4(\\mu)}{\\sigma^4} - 3$$\n"
   ]
  },
  {
   "cell_type": "markdown",
   "metadata": {},
   "source": [
    "## python \n",
    "\n",
    "我們用 python 來看看更多，更多[參考](https://docs.scipy.org/doc/scipy/reference/generated/scipy.stats.poisson.html#scipy.stats.poisson)。 \n"
   ]
  },
  {
   "cell_type": "code",
   "execution_count": 7,
   "metadata": {},
   "outputs": [
    {
     "data": {
      "text/plain": [
       "(array(10.), array(10.), array(0.31622777), array(0.1))"
      ]
     },
     "execution_count": 7,
     "metadata": {},
     "output_type": "execute_result"
    }
   ],
   "source": [
    "from scipy.stats import poisson\n",
    "\n",
    "mu = 10\n",
    "mean, var, skew, kurt = poisson.stats(mu, moments='mvsk')\n",
    "mean, var, skew, kurt\n"
   ]
  },
  {
   "cell_type": "markdown",
   "metadata": {},
   "source": [
    "畫圖"
   ]
  },
  {
   "cell_type": "code",
   "execution_count": 8,
   "metadata": {},
   "outputs": [
    {
     "data": {
      "image/png": "[encoded data removed]",
      "text/plain": [
       "<Figure size 720x720 with 1 Axes>"
      ]
     },
     "metadata": {
      "needs_background": "light"
     },
     "output_type": "display_data"
    }
   ],
   "source": [
    "import numpy as np\n",
    "import matplotlib.pyplot as plt\n",
    "%matplotlib inline\n",
    "\n",
    "plt.rcParams['figure.figsize'] = [10, 10]\n",
    "\n",
    "\n",
    "fig, axis = plt.subplots(1, 1)\n",
    "\n",
    "x = np.arange(poisson.ppf(0.01, mu),\n",
    "              poisson.ppf(0.99, mu))\n",
    "\n",
    "random_variates = poisson(mu)\n",
    "\n",
    "axis.plot(x, poisson.pmf(x, mu), 'bo', ms=8, label='poisson pmf')\n",
    "axis.vlines(x, 0, poisson.pmf(x, mu), colors='b', lw=5, alpha=0.5)\n",
    "\n",
    "axis.vlines(x, 0, random_variates.pmf(x), colors='k', linestyles='-', lw=1, label='frozen poisson')\n",
    "axis.legend(loc='best', frameon=False)\n",
    "plt.show()\n",
    "\n"
   ]
  },
  {
   "cell_type": "code",
   "execution_count": null,
   "metadata": {},
   "outputs": [],
   "source": []
  },
  {
   "cell_type": "code",
   "execution_count": null,
   "metadata": {},
   "outputs": [],
   "source": []
  }
 ],
 "metadata": {
  "kernelspec": {
   "display_name": "Python 3.9.12 ('py39')",
   "language": "python",
   "name": "python3"
  },
  "language_info": {
   "codemirror_mode": {
    "name": "ipython",
    "version": 3
   },
   "file_extension": ".py",
   "mimetype": "text/x-python",
   "name": "python",
   "nbconvert_exporter": "python",
   "pygments_lexer": "ipython3",
   "version": "3.9.12"
  },
  "orig_nbformat": 4,
  "vscode": {
   "interpreter": {
    "hash": "16588fe0bceb188988cfd4fccbde89564770efaa71f24d6b7cc64f697ef5739b"
   }
  }
 },
 "nbformat": 4,
 "nbformat_minor": 2
}
