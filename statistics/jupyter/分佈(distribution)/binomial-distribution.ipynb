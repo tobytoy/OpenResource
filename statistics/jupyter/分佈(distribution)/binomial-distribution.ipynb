{
 "cells": [
  {
   "cell_type": "markdown",
   "metadata": {},
   "source": [
    "# Binomial Distribution\n",
    "\n",
    "他就像擲 $n$ 次不公平的硬幣，有機率 $q$ 為正面( 輸出為 1 )，有機率 $1-q$ 為反面( 輸出為 0 )，去統計成功擲出正面的次數，下面看看他的基本統計量。\n",
    "\n",
    "\n",
    "假設 $X \\sim B(n,q)$ 為 Binomial Distribution 次數為 $n$ 、 機率為 $q$。\n",
    "\n",
    "\n",
    "## Probability Density Function 機率密度函數\n",
    "$$P(X = k) = \\big(_k^n \\big) q^k (1-q)^{(n-k)}$$\n",
    "\n",
    "\n",
    "## Cumulative Distribution Function 累積分布函數\n",
    "$$F(X \\leq k) = \\sum_{i=0}^k \\big(_k^n \\big) q^k (1-q)^{(n-k)}$$\n",
    "\n",
    "\n",
    "## Expection 期望值\n",
    "\n",
    "$$\\begin{aligned} \n",
    "    E(X) &= E(\\sum_{i=1}^nX_i)   \\\\\n",
    "         &= \\sum_{i=1}^nE(X_i)   \\\\ \n",
    "         &= \\sum_{i=1}^nq   \\\\ \n",
    "         &= nq \n",
    "    \\end{aligned}$$\n",
    "\n",
    "## Variance 方差\n",
    "\n",
    "$$\\begin{aligned} \n",
    "    Var(X) &= Var(\\sum_{i=1}^nX_i) \\\\ \n",
    "           &= \\sum_{i=1}^nVar(X_i) \\\\ \n",
    "           &= n q (1-q) \\\\ \n",
    "    \\end{aligned}$$"
   ]
  },
  {
   "cell_type": "markdown",
   "metadata": {},
   "source": [
    "\n",
    "## Skewness 偏態\n",
    "$$Skew(X) = \\frac{\\mu_3(\\mu)}{\\sigma^3}$$\n",
    "\n",
    "## Kurtosis 峰度\n",
    "$$Kurt(X) = \\frac{\\mu_4(\\mu)}{\\sigma^4} - 3$$\n"
   ]
  },
  {
   "cell_type": "markdown",
   "metadata": {},
   "source": [
    "## python \n",
    "\n",
    "我們用 python 來看看更多，更多[參考](https://docs.scipy.org/doc/scipy/reference/generated/scipy.stats.binom.html#scipy.stats.binom)。 \n"
   ]
  },
  {
   "cell_type": "code",
   "execution_count": 1,
   "metadata": {},
   "outputs": [
    {
     "data": {
      "text/plain": [
       "(array(2.), array(1.2), array(0.18257419), array(-0.36666667))"
      ]
     },
     "execution_count": 1,
     "metadata": {},
     "output_type": "execute_result"
    }
   ],
   "source": [
    "from scipy.stats import binom\n",
    "\n",
    "n, q = 5, 0.4\n",
    "mean, var, skew, kurt = binom.stats(n, q, moments='mvsk')\n",
    "mean, var, skew, kurt\n",
    "\n"
   ]
  },
  {
   "cell_type": "markdown",
   "metadata": {},
   "source": [
    "畫圖"
   ]
  },
  {
   "cell_type": "code",
   "execution_count": 11,
   "metadata": {},
   "outputs": [
    {
     "data": {
      "image/png": "[encoded data removed]",
      "text/plain": [
       "<Figure size 720x720 with 1 Axes>"
      ]
     },
     "metadata": {
      "needs_background": "light"
     },
     "output_type": "display_data"
    }
   ],
   "source": [
    "import numpy as np\n",
    "import matplotlib.pyplot as plt\n",
    "%matplotlib inline\n",
    "\n",
    "plt.rcParams['figure.figsize'] = [10, 10]\n",
    "\n",
    "\n",
    "fig, axis = plt.subplots(1, 1)\n",
    "\n",
    "x = np.arange(binom.ppf(0.01, n, q),\n",
    "              binom.ppf(0.99, n, q))\n",
    "\n",
    "random_variates = binom(n, q)\n",
    "\n",
    "axis.plot(x, binom.pmf(x, n, q), 'bo', ms=8, label='binom pmf')\n",
    "axis.vlines(x, 0, binom.pmf(x, n, q), colors='b', lw=5, alpha=0.5)\n",
    "\n",
    "axis.vlines(x, 0, random_variates.pmf(x), colors='k', linestyles='-', lw=1, label='frozen pmf')\n",
    "axis.legend(loc='best', frameon=False)\n",
    "plt.show()\n",
    "\n"
   ]
  },
  {
   "cell_type": "code",
   "execution_count": null,
   "metadata": {},
   "outputs": [],
   "source": []
  },
  {
   "cell_type": "code",
   "execution_count": null,
   "metadata": {},
   "outputs": [],
   "source": []
  }
 ],
 "metadata": {
  "kernelspec": {
   "display_name": "Python 3.9.12 ('py39')",
   "language": "python",
   "name": "python3"
  },
  "language_info": {
   "codemirror_mode": {
    "name": "ipython",
    "version": 3
   },
   "file_extension": ".py",
   "mimetype": "text/x-python",
   "name": "python",
   "nbconvert_exporter": "python",
   "pygments_lexer": "ipython3",
   "version": "3.9.12"
  },
  "orig_nbformat": 4,
  "vscode": {
   "interpreter": {
    "hash": "16588fe0bceb188988cfd4fccbde89564770efaa71f24d6b7cc64f697ef5739b"
   }
  }
 },
 "nbformat": 4,
 "nbformat_minor": 2
}
