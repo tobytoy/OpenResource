{
 "cells": [
  {
   "cell_type": "markdown",
   "metadata": {},
   "source": [
    "# 三門問題\n",
    "也被稱為 Monty Hall problem 蒙提霍爾問題\n",
    "\n",
    "**假設你正在參加一個遊戲節目，你被要求在三扇門中選擇一扇：\n",
    "其中一扇後面有一輛車；其餘兩扇後面則是山羊。\n",
    "你選擇了一道門，假設是一號門，然後知道門後面有什麼的主持人，\n",
    "開啟了另一扇後面有山羊的門，\n",
    "假設是三號門。他然後問你：「你想選擇二號門嗎？」\n",
    "轉換你的選擇對你來說是一種優勢嗎？**\n",
    "\n",
    "\n",
    "## Monte Carlo method\n",
    "\n",
    "下面我們介紹一種常用的方法，去解決未知的問題叫 Monte Carlo method 蒙地卡羅方法\n",
    "\n"
   ]
  },
  {
   "cell_type": "code",
   "execution_count": 76,
   "metadata": {},
   "outputs": [
    {
     "name": "stdout",
     "output_type": "stream",
     "text": [
      "車在哪個門後面:\t [0 1 1 1 0 1 1 2 1 1]\n",
      "你選的門:\t [1 1 0 0 1 2 2 1 1 1]\n",
      "主持人開的門:\t [2 0 2 2 2 0 0 0 0 0]\n",
      "你新選的門:\t [1 1 1 0 0 1 2 2 1 1]\n",
      "你獲勝機率:\t 0.7\n"
     ]
    }
   ],
   "source": [
    "import numpy as np\n",
    "from sklearn.metrics import accuracy_score\n",
    "\n",
    "size_number = 10\n",
    "\n",
    "# 0 表示你堅持不換\n",
    "# 1 表示你堅持要換\n",
    "# 2 你也隨機要換不換\n",
    "strategy = 2\n",
    "\n",
    "car_number  = np.random.randint(3, size=size_number)\n",
    "if size_number < 20:\n",
    "    print('車在哪個門後面:\\t', car_number)\n",
    "your_choose = np.random.randint(3, size=size_number)\n",
    "if size_number < 20:\n",
    "    print('你選的門:\\t', your_choose)\n",
    "host_open = np.array([np.setdiff1d(range(3), [car_number[i], your_choose[i]])[0] for i in range(size_number)])\n",
    "if size_number < 20:\n",
    "    print('主持人開的門:\\t', host_open)\n",
    "\n",
    "    \n",
    "if strategy == 0:\n",
    "    your_new_choose = your_choose\n",
    "elif strategy == 1:\n",
    "    your_new_choose = np.array([np.setdiff1d(range(3), [host_open[i], your_choose[i]])[0] for i in range(size_number)])\n",
    "elif strategy == 2:\n",
    "    your_new_choose = np.array([np.setdiff1d(range(3), [host_open[i], your_choose[i]])[0] if np.random.randint(2)==1 else your_choose[i] for i in range(size_number)])\n",
    "    \n",
    "\n",
    "if size_number < 20:\n",
    "    print('你新選的門:\\t', your_new_choose)\n",
    "\n",
    "\n",
    "print('你獲勝機率:\\t', accuracy_score(car_number, your_new_choose)) \n",
    "\n"
   ]
  },
  {
   "cell_type": "code",
   "execution_count": null,
   "metadata": {},
   "outputs": [],
   "source": []
  },
  {
   "cell_type": "markdown",
   "metadata": {},
   "source": [
    "## 直接解答\n",
    "\n",
    "我們假設我們堅持要換，下面可以分為兩種情況\n",
    "\n",
    "### Case 1 : 第一次就猜中\n",
    "這個情況機率是 $1/3$ ， 如果堅持要換那最後結局是不中。\n",
    "\n",
    "### Case 2 : 第一次沒猜中\n",
    "這個情況機率是 $2/3$ ， 如果堅持要換那最後結局是中。\n",
    "\n"
   ]
  },
  {
   "cell_type": "markdown",
   "metadata": {},
   "source": [
    "## 算命\n",
    "\n",
    "大家有去算過命嗎? 大家相信算命嗎? <br>\n",
    "我個人對算命的看法是心理學加統計學(用蒙地卡羅)\n",
    "\n",
    "\n"
   ]
  },
  {
   "cell_type": "code",
   "execution_count": null,
   "metadata": {},
   "outputs": [],
   "source": []
  },
  {
   "cell_type": "code",
   "execution_count": null,
   "metadata": {},
   "outputs": [],
   "source": []
  },
  {
   "cell_type": "code",
   "execution_count": null,
   "metadata": {},
   "outputs": [],
   "source": [
    "https://wiki.mbalib.com/zh-tw/%E8%92%99%E7%89%B9%E5%8D%A1%E7%BD%97%E6%96%B9%E6%B3%95\n",
    "http://www.ablmcc.edu.hk/~scy/cprogram/Monte-Carlo.pdf\n",
    "https://zh.wikipedia.org/zh-tw/%E8%92%99%E5%9C%B0%E5%8D%A1%E7%BE%85%E6%96%B9%E6%B3%95"
   ]
  },
  {
   "cell_type": "code",
   "execution_count": null,
   "metadata": {},
   "outputs": [],
   "source": []
  },
  {
   "cell_type": "code",
   "execution_count": null,
   "metadata": {},
   "outputs": [],
   "source": []
  },
  {
   "cell_type": "code",
   "execution_count": null,
   "metadata": {},
   "outputs": [],
   "source": []
  }
 ],
 "metadata": {
  "kernelspec": {
   "display_name": "Python 3.9.12 ('py39')",
   "language": "python",
   "name": "python3"
  },
  "language_info": {
   "codemirror_mode": {
    "name": "ipython",
    "version": 3
   },
   "file_extension": ".py",
   "mimetype": "text/x-python",
   "name": "python",
   "nbconvert_exporter": "python",
   "pygments_lexer": "ipython3",
   "version": "3.9.12"
  },
  "orig_nbformat": 4,
  "vscode": {
   "interpreter": {
    "hash": "16588fe0bceb188988cfd4fccbde89564770efaa71f24d6b7cc64f697ef5739b"
   }
  }
 },
 "nbformat": 4,
 "nbformat_minor": 2
}
