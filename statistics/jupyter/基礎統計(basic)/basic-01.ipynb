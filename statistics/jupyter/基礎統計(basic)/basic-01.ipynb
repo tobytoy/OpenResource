{
 "cells": [
  {
   "cell_type": "markdown",
   "metadata": {},
   "source": [
    "# Expection and Variance\n",
    "\n",
    "期望值或稱均值 (expection or mean) 是用來描述一組數據的中心位置，但是常常會有極端資料影響期望值，\n",
    "所以也有其他指標(中位數 Median，四分位數 Quartile)來描述中心位置。\n",
    "對於離散的隨機變量 $X$ (discrete random variables)，我們定義他的期望值為:\n",
    "\n",
    "$$E(X) := \\sum_x x P(x)$$\n",
    "\n",
    "如果 $X$ 是連續的隨機變數，存在一個對應的機率密度函數(Probability Density Function) $P(x)$ 則我們定義期望值為\n",
    "\n",
    "$$\\int_{-\\infty}^{\\infty} x P(x) dx$$\n",
    "\n",
    "在機率上我們常常用希臘字母 $\\mu$ 來標記。\n",
    "\n"
   ]
  },
  {
   "cell_type": "markdown",
   "metadata": {},
   "source": [
    "方差 Variance 是衡量一組數據變化的幅度 (variability) 的指標之一，\n",
    "Variance 的定義是\n",
    "\n",
    "$$Var(X) := E \\Big( (X - \\mu)^2 \\Big)$$\n",
    "\n",
    "還有另一個公式\n",
    "\n",
    "$$Var(X) = E(X^2) - E(X)^2$$\n",
    "\n",
    "大家自己展開隨便倒一下就會出來，我們在來說一個常用相關的定義標準差，也被稱為均方差(Standard Deviation)\n",
    "\n",
    "$$SD(X) := \\sqrt{Var(X)}$$\n",
    "\n",
    "我們常用希臘字母 $\\sigma$ 來表示 Standard Deviation\n",
    "\n",
    "\n",
    "## Variance 的特性\n",
    "下面說說 Variance 的特性。\n",
    "- $Var(X + b) = V(X)$\n",
    "- $Var(aX) = a^2 Var(X)$\n",
    "- $Var(ax + b) = a^2 Var(X)$\n",
    "\n",
    "\n",
    "\n"
   ]
  },
  {
   "cell_type": "markdown",
   "metadata": {},
   "source": [
    "下面我們會介紹偏態(Skewness)與峰度(Kurtosis)，偏態可以判斷隨機變量是往左或往右偏，峰度可以判斷隨機變量是高高尖尖的還是矮矮胖胖的，但是為了可以更系統的描述隨機變量，下面要介紹動差(moment)。\n",
    "\n",
    "# Moment\n",
    "假設隨機變量 $X$ 的機率密度函數(pdf) 為 $P(x)$ ，如果 $P$ 為離散的那我們定義對於 $c$ 點的 $n$ 階動差為\n",
    "\n",
    "$$\\mu_n(c) := \\sum_{x} (x-c)^n P(x)$$\n",
    "\n",
    "如果 $P$ 為連續函數則我們定義\n",
    "\n",
    "$$\\int_{-\\infty}^{\\infty} (x-c)^n P(x) dx$$\n",
    "\n",
    "我們可以先看怎麼用動差描述 Expectation。\n",
    "\n",
    "$$E(X) = \\mu_1(0)$$\n",
    "\n",
    "Variance 為 $2$ 階主動差\n",
    "\n",
    "$$Var(X) = \\mu_2(E(X))$$\n",
    "\n",
    "## (Fisher's) Skewness 偏態\n",
    "\n",
    "Skewness 的定義需要 $3$ 階主動差\n",
    "\n",
    "$$Skew(X) := E \\Big[ (\\frac{X -\\mu}{\\sigma})^3 \\Big]=\\frac{\\mu_3(E(X))}{\\sigma^3}$$\n",
    "\n",
    "\n",
    "## (Fisher's) Kurtosis 峰度\n",
    "\n",
    "Kurtosis 的定義需要 $4$ 階主動差\n",
    "\n",
    "$$Kurt(X) := \\frac{\\mu_4(E(X))}{\\sigma^4}$$\n",
    "\n",
    "### excess kurtosis\n",
    "\n",
    "但是我們常常希望以常態分布為標準，所以我們會定義\n",
    "\n",
    "$$Kurt(X) := \\frac{\\mu_4(E(X))}{\\sigma^4} - 3$$\n"
   ]
  },
  {
   "cell_type": "code",
   "execution_count": null,
   "metadata": {},
   "outputs": [],
   "source": []
  }
 ],
 "metadata": {
  "kernelspec": {
   "display_name": "Python 3.8.8 ('toby')",
   "language": "python",
   "name": "python3"
  },
  "language_info": {
   "name": "python",
   "version": "3.8.8"
  },
  "orig_nbformat": 4,
  "vscode": {
   "interpreter": {
    "hash": "9f507bc0c6a586295e3338d11ec3fe19c4f242dbc5a06bb50ca7be29aa175c9f"
   }
  }
 },
 "nbformat": 4,
 "nbformat_minor": 2
}
